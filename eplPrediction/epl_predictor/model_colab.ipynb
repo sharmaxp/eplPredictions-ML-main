{
  "cells": [
    {
      "cell_type": "code",
      "execution_count": null,
      "metadata": {
        "id": "01fN8P0Jrk9L"
      },
      "outputs": [],
      "source": [
        "import pandas as pd, numpy as np\n",
        "import matplotlib.pyplot as plt\n",
        "%matplotlib inline"
      ]
    },
    {
      "cell_type": "code",
      "execution_count": null,
      "metadata": {
        "id": "GUDFHALmtStI",
        "outputId": "58d2f8fa-6582-421e-e964-15725e4f58f9",
        "colab": {
          "base_uri": "https://localhost:8080/",
          "height": 240
        }
      },
      "outputs": [
        {
          "output_type": "execute_result",
          "data": {
            "text/plain": [
              "    Season              DateTime home_team_name away_team_name  FTHG  FTAG  \\\n",
              "0  2017-18  2017-08-11T00:00:00Z        Arsenal      Leicester     4     3   \n",
              "1  2017-18  2017-08-12T00:00:00Z       Brighton       Man City     0     2   \n",
              "\n",
              "  FTR  HTHG  HTAG HTR  ...  HST  AST  HC  AC  HF  AF  HY  AY  HR  AR  \n",
              "0   H     2     2   D  ...   10    3   9   4   9  12   0   1   0   0  \n",
              "1   A     0     0   D  ...    2    4   3  10   6   9   0   2   0   0  \n",
              "\n",
              "[2 rows x 22 columns]"
            ],
            "text/html": [
              "\n",
              "  <div id=\"df-560af83c-3549-4fb8-bcc2-99f8f6f70bac\">\n",
              "    <div class=\"colab-df-container\">\n",
              "      <div>\n",
              "<style scoped>\n",
              "    .dataframe tbody tr th:only-of-type {\n",
              "        vertical-align: middle;\n",
              "    }\n",
              "\n",
              "    .dataframe tbody tr th {\n",
              "        vertical-align: top;\n",
              "    }\n",
              "\n",
              "    .dataframe thead th {\n",
              "        text-align: right;\n",
              "    }\n",
              "</style>\n",
              "<table border=\"1\" class=\"dataframe\">\n",
              "  <thead>\n",
              "    <tr style=\"text-align: right;\">\n",
              "      <th></th>\n",
              "      <th>Season</th>\n",
              "      <th>DateTime</th>\n",
              "      <th>home_team_name</th>\n",
              "      <th>away_team_name</th>\n",
              "      <th>FTHG</th>\n",
              "      <th>FTAG</th>\n",
              "      <th>FTR</th>\n",
              "      <th>HTHG</th>\n",
              "      <th>HTAG</th>\n",
              "      <th>HTR</th>\n",
              "      <th>...</th>\n",
              "      <th>HST</th>\n",
              "      <th>AST</th>\n",
              "      <th>HC</th>\n",
              "      <th>AC</th>\n",
              "      <th>HF</th>\n",
              "      <th>AF</th>\n",
              "      <th>HY</th>\n",
              "      <th>AY</th>\n",
              "      <th>HR</th>\n",
              "      <th>AR</th>\n",
              "    </tr>\n",
              "  </thead>\n",
              "  <tbody>\n",
              "    <tr>\n",
              "      <th>0</th>\n",
              "      <td>2017-18</td>\n",
              "      <td>2017-08-11T00:00:00Z</td>\n",
              "      <td>Arsenal</td>\n",
              "      <td>Leicester</td>\n",
              "      <td>4</td>\n",
              "      <td>3</td>\n",
              "      <td>H</td>\n",
              "      <td>2</td>\n",
              "      <td>2</td>\n",
              "      <td>D</td>\n",
              "      <td>...</td>\n",
              "      <td>10</td>\n",
              "      <td>3</td>\n",
              "      <td>9</td>\n",
              "      <td>4</td>\n",
              "      <td>9</td>\n",
              "      <td>12</td>\n",
              "      <td>0</td>\n",
              "      <td>1</td>\n",
              "      <td>0</td>\n",
              "      <td>0</td>\n",
              "    </tr>\n",
              "    <tr>\n",
              "      <th>1</th>\n",
              "      <td>2017-18</td>\n",
              "      <td>2017-08-12T00:00:00Z</td>\n",
              "      <td>Brighton</td>\n",
              "      <td>Man City</td>\n",
              "      <td>0</td>\n",
              "      <td>2</td>\n",
              "      <td>A</td>\n",
              "      <td>0</td>\n",
              "      <td>0</td>\n",
              "      <td>D</td>\n",
              "      <td>...</td>\n",
              "      <td>2</td>\n",
              "      <td>4</td>\n",
              "      <td>3</td>\n",
              "      <td>10</td>\n",
              "      <td>6</td>\n",
              "      <td>9</td>\n",
              "      <td>0</td>\n",
              "      <td>2</td>\n",
              "      <td>0</td>\n",
              "      <td>0</td>\n",
              "    </tr>\n",
              "  </tbody>\n",
              "</table>\n",
              "<p>2 rows × 22 columns</p>\n",
              "</div>\n",
              "      <button class=\"colab-df-convert\" onclick=\"convertToInteractive('df-560af83c-3549-4fb8-bcc2-99f8f6f70bac')\"\n",
              "              title=\"Convert this dataframe to an interactive table.\"\n",
              "              style=\"display:none;\">\n",
              "        \n",
              "  <svg xmlns=\"http://www.w3.org/2000/svg\" height=\"24px\"viewBox=\"0 0 24 24\"\n",
              "       width=\"24px\">\n",
              "    <path d=\"M0 0h24v24H0V0z\" fill=\"none\"/>\n",
              "    <path d=\"M18.56 5.44l.94 2.06.94-2.06 2.06-.94-2.06-.94-.94-2.06-.94 2.06-2.06.94zm-11 1L8.5 8.5l.94-2.06 2.06-.94-2.06-.94L8.5 2.5l-.94 2.06-2.06.94zm10 10l.94 2.06.94-2.06 2.06-.94-2.06-.94-.94-2.06-.94 2.06-2.06.94z\"/><path d=\"M17.41 7.96l-1.37-1.37c-.4-.4-.92-.59-1.43-.59-.52 0-1.04.2-1.43.59L10.3 9.45l-7.72 7.72c-.78.78-.78 2.05 0 2.83L4 21.41c.39.39.9.59 1.41.59.51 0 1.02-.2 1.41-.59l7.78-7.78 2.81-2.81c.8-.78.8-2.07 0-2.86zM5.41 20L4 18.59l7.72-7.72 1.47 1.35L5.41 20z\"/>\n",
              "  </svg>\n",
              "      </button>\n",
              "      \n",
              "  <style>\n",
              "    .colab-df-container {\n",
              "      display:flex;\n",
              "      flex-wrap:wrap;\n",
              "      gap: 12px;\n",
              "    }\n",
              "\n",
              "    .colab-df-convert {\n",
              "      background-color: #E8F0FE;\n",
              "      border: none;\n",
              "      border-radius: 50%;\n",
              "      cursor: pointer;\n",
              "      display: none;\n",
              "      fill: #1967D2;\n",
              "      height: 32px;\n",
              "      padding: 0 0 0 0;\n",
              "      width: 32px;\n",
              "    }\n",
              "\n",
              "    .colab-df-convert:hover {\n",
              "      background-color: #E2EBFA;\n",
              "      box-shadow: 0px 1px 2px rgba(60, 64, 67, 0.3), 0px 1px 3px 1px rgba(60, 64, 67, 0.15);\n",
              "      fill: #174EA6;\n",
              "    }\n",
              "\n",
              "    [theme=dark] .colab-df-convert {\n",
              "      background-color: #3B4455;\n",
              "      fill: #D2E3FC;\n",
              "    }\n",
              "\n",
              "    [theme=dark] .colab-df-convert:hover {\n",
              "      background-color: #434B5C;\n",
              "      box-shadow: 0px 1px 3px 1px rgba(0, 0, 0, 0.15);\n",
              "      filter: drop-shadow(0px 1px 2px rgba(0, 0, 0, 0.3));\n",
              "      fill: #FFFFFF;\n",
              "    }\n",
              "  </style>\n",
              "\n",
              "      <script>\n",
              "        const buttonEl =\n",
              "          document.querySelector('#df-560af83c-3549-4fb8-bcc2-99f8f6f70bac button.colab-df-convert');\n",
              "        buttonEl.style.display =\n",
              "          google.colab.kernel.accessAllowed ? 'block' : 'none';\n",
              "\n",
              "        async function convertToInteractive(key) {\n",
              "          const element = document.querySelector('#df-560af83c-3549-4fb8-bcc2-99f8f6f70bac');\n",
              "          const dataTable =\n",
              "            await google.colab.kernel.invokeFunction('convertToInteractive',\n",
              "                                                     [key], {});\n",
              "          if (!dataTable) return;\n",
              "\n",
              "          const docLinkHtml = 'Like what you see? Visit the ' +\n",
              "            '<a target=\"_blank\" href=https://colab.research.google.com/notebooks/data_table.ipynb>data table notebook</a>'\n",
              "            + ' to learn more about interactive tables.';\n",
              "          element.innerHTML = '';\n",
              "          dataTable['output_type'] = 'display_data';\n",
              "          await google.colab.output.renderOutput(dataTable, element);\n",
              "          const docLink = document.createElement('div');\n",
              "          docLink.innerHTML = docLinkHtml;\n",
              "          element.appendChild(docLink);\n",
              "        }\n",
              "      </script>\n",
              "    </div>\n",
              "  </div>\n",
              "  "
            ]
          },
          "metadata": {},
          "execution_count": 2
        }
      ],
      "source": [
        "df = pd.read_csv('results_r.csv')\n",
        "df.head(2)\n",
        "# df = df.drop(['Season','DateTime','home_team_name','away_team_name','FTR','FTHG','FTAG','HTHG','HTAG','HTR'], axis = 1)\n",
        "# df = df.ewm(alpha = 0.1).mean()"
      ]
    },
    {
      "cell_type": "code",
      "source": [
        "# df.corr()"
      ],
      "metadata": {
        "id": "azxs6dgTosv0"
      },
      "execution_count": null,
      "outputs": []
    },
    {
      "cell_type": "code",
      "source": [
        "X = df.drop(['Season','DateTime','home_team_name','away_team_name','FTR','FTHG','FTAG','HTHG','HTAG','HTR'], axis = 1)\n",
        "# X\n",
        "y= df['FTR']\n",
        "# X\n",
        "# y"
      ],
      "metadata": {
        "id": "FJkRWhI6Mg46"
      },
      "execution_count": null,
      "outputs": []
    },
    {
      "cell_type": "code",
      "execution_count": null,
      "metadata": {
        "id": "4jYR4ypmuLRQ"
      },
      "outputs": [],
      "source": [
        "from sklearn.model_selection import train_test_split"
      ]
    },
    {
      "cell_type": "code",
      "execution_count": null,
      "metadata": {
        "id": "0qKVD9t7uFXL",
        "colab": {
          "base_uri": "https://localhost:8080/"
        },
        "outputId": "8bfdc5c8-3f29-4725-d2c1-94cd1b2456b8"
      },
      "outputs": [
        {
          "output_type": "execute_result",
          "data": {
            "text/plain": [
              "((1463, 12), (366, 12))"
            ]
          },
          "metadata": {},
          "execution_count": 6
        }
      ],
      "source": [
        "X_train, X_test, y_train, y_test = train_test_split(X, y, train_size=0.80, random_state=42)\n",
        "X_train.shape, X_test.shape\n",
        "# y_train\n",
        "# X_test.head(1)\n",
        "# a"
      ]
    },
    {
      "cell_type": "code",
      "source": [
        "def models(x_train, y_train):\n",
        "  from sklearn.ensemble import RandomForestClassifier\n",
        "  from sklearn.model_selection import GridSearchCV\n",
        "  from sklearn.metrics import f1_score\n",
        "  classifier_rf = RandomForestClassifier(random_state=10,max_depth=5,\n",
        "                                       n_estimators=100, oob_score=True)\n",
        "  classifier_rf.fit(X_train, y_train)\n",
        "  # op = classifier_rf.predict(X_test)\n",
        "  rf = RandomForestClassifier(random_state=10, n_jobs=-1)\n",
        "  params = {\n",
        "    'max_depth': [2,3,5,10,15,20],\n",
        "    'min_samples_leaf': [5,10,20,50,100,200],\n",
        "    'n_estimators': [10,25,30,50,100,200]\n",
        "}\n",
        "  grid_search = GridSearchCV(estimator=rf,\n",
        "                           param_grid=params,\n",
        "                           cv = 4,\n",
        "                           n_jobs=-1, verbose=1, scoring=\"accuracy\")\n",
        "  grid_search.fit(X_train, y_train)\n",
        "  # ok = grid_search.predict(X_test)\n",
        "  rf_best = grid_search.best_estimator_\n",
        "  imp_df = pd.DataFrame({\n",
        "    \"Features\": X_train.columns,\n",
        "    \"Imp\": classifier_rf.feature_importances_\n",
        "})\n",
        "  imp_df.sort_values(by=\"Imp\", ascending=False)\n",
        "  # f1_score(ok,y_test, average='weighted')\n",
        "  print(\"Accuracy of Random Forest before: \",classifier_rf.score(X_train,y_train))\n",
        "  print(\"Accuracy of Random Forest after Grid Search: \",grid_search.score(X_train,y_train))\n",
        "\n",
        "  arraymodels = ['Random_forest',classifier_rf]\n",
        "  return arraymodels"
      ],
      "metadata": {
        "id": "n8y2UpdPLNTw"
      },
      "execution_count": null,
      "outputs": []
    },
    {
      "cell_type": "code",
      "source": [
        "model = models(X_train, y_train)"
      ],
      "metadata": {
        "colab": {
          "base_uri": "https://localhost:8080/"
        },
        "id": "VgJlBPpwMHw5",
        "outputId": "3cf0270b-15bd-4345-b6ba-8caca8d79f8e"
      },
      "execution_count": null,
      "outputs": [
        {
          "output_type": "stream",
          "name": "stdout",
          "text": [
            "Fitting 4 folds for each of 216 candidates, totalling 864 fits\n",
            "Accuracy of Random Forest before:  0.6390977443609023\n",
            "Accuracy of Random Forest after Grid Search:  0.6855775803144224\n"
          ]
        }
      ]
    },
    {
      "cell_type": "code",
      "source": [
        "ok = model[1].predict(X_test)\n",
        "ok"
      ],
      "metadata": {
        "colab": {
          "base_uri": "https://localhost:8080/"
        },
        "id": "178aIv4wWJS0",
        "outputId": "09291579-a284-41ec-c9db-e53c537e3cf6"
      },
      "execution_count": null,
      "outputs": [
        {
          "output_type": "execute_result",
          "data": {
            "text/plain": [
              "array(['H', 'A', 'H', 'H', 'H', 'H', 'H', 'A', 'H', 'H', 'H', 'A', 'A',\n",
              "       'H', 'H', 'A', 'H', 'A', 'A', 'H', 'A', 'A', 'H', 'A', 'H', 'H',\n",
              "       'A', 'H', 'A', 'A', 'A', 'A', 'H', 'H', 'H', 'H', 'A', 'H', 'A',\n",
              "       'A', 'D', 'A', 'A', 'H', 'A', 'A', 'H', 'H', 'H', 'H', 'H', 'A',\n",
              "       'H', 'A', 'H', 'H', 'H', 'H', 'H', 'H', 'H', 'A', 'H', 'H', 'H',\n",
              "       'H', 'H', 'H', 'H', 'H', 'A', 'A', 'A', 'A', 'A', 'H', 'H', 'A',\n",
              "       'H', 'H', 'H', 'A', 'H', 'H', 'A', 'A', 'H', 'A', 'A', 'H', 'A',\n",
              "       'A', 'A', 'H', 'A', 'H', 'H', 'A', 'H', 'H', 'H', 'A', 'A', 'A',\n",
              "       'A', 'H', 'H', 'A', 'H', 'H', 'A', 'A', 'A', 'A', 'H', 'A', 'A',\n",
              "       'H', 'H', 'A', 'A', 'H', 'A', 'A', 'H', 'H', 'H', 'A', 'H', 'H',\n",
              "       'A', 'H', 'H', 'H', 'A', 'A', 'H', 'A', 'H', 'H', 'H', 'A', 'H',\n",
              "       'H', 'A', 'H', 'H', 'H', 'H', 'H', 'H', 'H', 'H', 'H', 'H', 'A',\n",
              "       'A', 'H', 'A', 'H', 'H', 'H', 'A', 'A', 'A', 'H', 'D', 'A', 'A',\n",
              "       'A', 'H', 'H', 'A', 'A', 'H', 'H', 'A', 'H', 'A', 'A', 'H', 'H',\n",
              "       'H', 'H', 'H', 'H', 'A', 'H', 'H', 'H', 'A', 'A', 'A', 'H', 'H',\n",
              "       'H', 'A', 'A', 'A', 'H', 'A', 'A', 'A', 'A', 'H', 'A', 'H', 'H',\n",
              "       'H', 'H', 'H', 'A', 'H', 'H', 'A', 'A', 'A', 'H', 'H', 'A', 'A',\n",
              "       'H', 'A', 'H', 'H', 'H', 'H', 'H', 'H', 'H', 'A', 'A', 'A', 'H',\n",
              "       'A', 'H', 'H', 'H', 'A', 'A', 'A', 'H', 'H', 'H', 'A', 'H', 'H',\n",
              "       'H', 'H', 'H', 'H', 'H', 'A', 'H', 'A', 'H', 'H', 'A', 'H', 'A',\n",
              "       'H', 'A', 'H', 'H', 'H', 'A', 'A', 'H', 'A', 'H', 'H', 'A', 'H',\n",
              "       'H', 'H', 'A', 'A', 'H', 'A', 'H', 'H', 'H', 'H', 'H', 'A', 'H',\n",
              "       'A', 'H', 'H', 'A', 'H', 'A', 'H', 'H', 'H', 'A', 'A', 'A', 'A',\n",
              "       'H', 'A', 'H', 'A', 'A', 'H', 'A', 'A', 'D', 'H', 'H', 'A', 'A',\n",
              "       'H', 'H', 'H', 'H', 'A', 'A', 'A', 'H', 'H', 'H', 'A', 'H', 'H',\n",
              "       'A', 'H', 'H', 'A', 'H', 'H', 'H', 'A', 'H', 'H', 'A', 'H', 'A',\n",
              "       'A', 'H', 'H', 'H', 'H', 'A', 'A', 'H', 'H', 'H', 'A', 'A', 'H',\n",
              "       'A', 'A', 'H', 'H', 'H', 'H', 'H', 'A', 'A', 'A', 'H', 'H', 'A',\n",
              "       'A', 'A'], dtype=object)"
            ]
          },
          "metadata": {},
          "execution_count": 9
        }
      ]
    },
    {
      "cell_type": "code",
      "source": [
        "from sklearn.metrics import accuracy_score, classification_report"
      ],
      "metadata": {
        "id": "pH55P2DjakBg"
      },
      "execution_count": null,
      "outputs": []
    },
    {
      "cell_type": "code",
      "source": [
        "print(classification_report(y_test, model[1].predict(X_test)))"
      ],
      "metadata": {
        "colab": {
          "base_uri": "https://localhost:8080/"
        },
        "id": "QTe6U85vMHsZ",
        "outputId": "e06713c6-fda8-46dc-9857-d6f007c7d0e0"
      },
      "execution_count": null,
      "outputs": [
        {
          "output_type": "stream",
          "name": "stdout",
          "text": [
            "              precision    recall  f1-score   support\n",
            "\n",
            "           A       0.59      0.74      0.66       123\n",
            "           D       0.33      0.01      0.03        76\n",
            "           H       0.63      0.80      0.71       167\n",
            "\n",
            "    accuracy                           0.61       366\n",
            "   macro avg       0.52      0.52      0.46       366\n",
            "weighted avg       0.56      0.61      0.55       366\n",
            "\n"
          ]
        }
      ]
    },
    {
      "cell_type": "code",
      "source": [
        "combined = pd.DataFrame(dict(actual=y_test, predicted=ok))\n",
        "pd.crosstab(index=combined[\"actual\"], columns=combined[\"predicted\"])"
      ],
      "metadata": {
        "colab": {
          "base_uri": "https://localhost:8080/",
          "height": 175
        },
        "id": "WLfs8aAqa5Hf",
        "outputId": "dc3801bc-1ca4-4bfe-d961-11166768a11d"
      },
      "execution_count": null,
      "outputs": [
        {
          "output_type": "execute_result",
          "data": {
            "text/plain": [
              "predicted   A  D    H\n",
              "actual               \n",
              "A          91  1   31\n",
              "D          29  1   46\n",
              "H          33  1  133"
            ],
            "text/html": [
              "\n",
              "  <div id=\"df-139a3f6b-83ba-4391-85ef-cb9ab4a246f6\">\n",
              "    <div class=\"colab-df-container\">\n",
              "      <div>\n",
              "<style scoped>\n",
              "    .dataframe tbody tr th:only-of-type {\n",
              "        vertical-align: middle;\n",
              "    }\n",
              "\n",
              "    .dataframe tbody tr th {\n",
              "        vertical-align: top;\n",
              "    }\n",
              "\n",
              "    .dataframe thead th {\n",
              "        text-align: right;\n",
              "    }\n",
              "</style>\n",
              "<table border=\"1\" class=\"dataframe\">\n",
              "  <thead>\n",
              "    <tr style=\"text-align: right;\">\n",
              "      <th>predicted</th>\n",
              "      <th>A</th>\n",
              "      <th>D</th>\n",
              "      <th>H</th>\n",
              "    </tr>\n",
              "    <tr>\n",
              "      <th>actual</th>\n",
              "      <th></th>\n",
              "      <th></th>\n",
              "      <th></th>\n",
              "    </tr>\n",
              "  </thead>\n",
              "  <tbody>\n",
              "    <tr>\n",
              "      <th>A</th>\n",
              "      <td>91</td>\n",
              "      <td>1</td>\n",
              "      <td>31</td>\n",
              "    </tr>\n",
              "    <tr>\n",
              "      <th>D</th>\n",
              "      <td>29</td>\n",
              "      <td>1</td>\n",
              "      <td>46</td>\n",
              "    </tr>\n",
              "    <tr>\n",
              "      <th>H</th>\n",
              "      <td>33</td>\n",
              "      <td>1</td>\n",
              "      <td>133</td>\n",
              "    </tr>\n",
              "  </tbody>\n",
              "</table>\n",
              "</div>\n",
              "      <button class=\"colab-df-convert\" onclick=\"convertToInteractive('df-139a3f6b-83ba-4391-85ef-cb9ab4a246f6')\"\n",
              "              title=\"Convert this dataframe to an interactive table.\"\n",
              "              style=\"display:none;\">\n",
              "        \n",
              "  <svg xmlns=\"http://www.w3.org/2000/svg\" height=\"24px\"viewBox=\"0 0 24 24\"\n",
              "       width=\"24px\">\n",
              "    <path d=\"M0 0h24v24H0V0z\" fill=\"none\"/>\n",
              "    <path d=\"M18.56 5.44l.94 2.06.94-2.06 2.06-.94-2.06-.94-.94-2.06-.94 2.06-2.06.94zm-11 1L8.5 8.5l.94-2.06 2.06-.94-2.06-.94L8.5 2.5l-.94 2.06-2.06.94zm10 10l.94 2.06.94-2.06 2.06-.94-2.06-.94-.94-2.06-.94 2.06-2.06.94z\"/><path d=\"M17.41 7.96l-1.37-1.37c-.4-.4-.92-.59-1.43-.59-.52 0-1.04.2-1.43.59L10.3 9.45l-7.72 7.72c-.78.78-.78 2.05 0 2.83L4 21.41c.39.39.9.59 1.41.59.51 0 1.02-.2 1.41-.59l7.78-7.78 2.81-2.81c.8-.78.8-2.07 0-2.86zM5.41 20L4 18.59l7.72-7.72 1.47 1.35L5.41 20z\"/>\n",
              "  </svg>\n",
              "      </button>\n",
              "      \n",
              "  <style>\n",
              "    .colab-df-container {\n",
              "      display:flex;\n",
              "      flex-wrap:wrap;\n",
              "      gap: 12px;\n",
              "    }\n",
              "\n",
              "    .colab-df-convert {\n",
              "      background-color: #E8F0FE;\n",
              "      border: none;\n",
              "      border-radius: 50%;\n",
              "      cursor: pointer;\n",
              "      display: none;\n",
              "      fill: #1967D2;\n",
              "      height: 32px;\n",
              "      padding: 0 0 0 0;\n",
              "      width: 32px;\n",
              "    }\n",
              "\n",
              "    .colab-df-convert:hover {\n",
              "      background-color: #E2EBFA;\n",
              "      box-shadow: 0px 1px 2px rgba(60, 64, 67, 0.3), 0px 1px 3px 1px rgba(60, 64, 67, 0.15);\n",
              "      fill: #174EA6;\n",
              "    }\n",
              "\n",
              "    [theme=dark] .colab-df-convert {\n",
              "      background-color: #3B4455;\n",
              "      fill: #D2E3FC;\n",
              "    }\n",
              "\n",
              "    [theme=dark] .colab-df-convert:hover {\n",
              "      background-color: #434B5C;\n",
              "      box-shadow: 0px 1px 3px 1px rgba(0, 0, 0, 0.15);\n",
              "      filter: drop-shadow(0px 1px 2px rgba(0, 0, 0, 0.3));\n",
              "      fill: #FFFFFF;\n",
              "    }\n",
              "  </style>\n",
              "\n",
              "      <script>\n",
              "        const buttonEl =\n",
              "          document.querySelector('#df-139a3f6b-83ba-4391-85ef-cb9ab4a246f6 button.colab-df-convert');\n",
              "        buttonEl.style.display =\n",
              "          google.colab.kernel.accessAllowed ? 'block' : 'none';\n",
              "\n",
              "        async function convertToInteractive(key) {\n",
              "          const element = document.querySelector('#df-139a3f6b-83ba-4391-85ef-cb9ab4a246f6');\n",
              "          const dataTable =\n",
              "            await google.colab.kernel.invokeFunction('convertToInteractive',\n",
              "                                                     [key], {});\n",
              "          if (!dataTable) return;\n",
              "\n",
              "          const docLinkHtml = 'Like what you see? Visit the ' +\n",
              "            '<a target=\"_blank\" href=https://colab.research.google.com/notebooks/data_table.ipynb>data table notebook</a>'\n",
              "            + ' to learn more about interactive tables.';\n",
              "          element.innerHTML = '';\n",
              "          dataTable['output_type'] = 'display_data';\n",
              "          await google.colab.output.renderOutput(dataTable, element);\n",
              "          const docLink = document.createElement('div');\n",
              "          docLink.innerHTML = docLinkHtml;\n",
              "          element.appendChild(docLink);\n",
              "        }\n",
              "      </script>\n",
              "    </div>\n",
              "  </div>\n",
              "  "
            ]
          },
          "metadata": {},
          "execution_count": 12
        }
      ]
    },
    {
      "cell_type": "code",
      "source": [
        "from sklearn import metrics\n"
      ],
      "metadata": {
        "id": "fFpTAbJHpsDM"
      },
      "execution_count": null,
      "outputs": []
    },
    {
      "cell_type": "code",
      "source": [
        "confusion_matrix = metrics.confusion_matrix(y_test, ok)\n",
        "\n",
        "cm_display = metrics.ConfusionMatrixDisplay(confusion_matrix = confusion_matrix, display_labels = ['A','D','H'])\n",
        "\n",
        "cm_display.plot()\n",
        "plt.show()"
      ],
      "metadata": {
        "colab": {
          "base_uri": "https://localhost:8080/",
          "height": 279
        },
        "id": "N0gIvmvYptgb",
        "outputId": "a7fb3cea-2809-4c23-fdb8-f05c0a697460"
      },
      "execution_count": null,
      "outputs": [
        {
          "output_type": "display_data",
          "data": {
            "text/plain": [
              "<Figure size 432x288 with 2 Axes>"
            ],
            "image/png": "[encoded data removed]"
          },
          "metadata": {
            "needs_background": "light"
          }
        }
      ]
    },
    {
      "cell_type": "code",
      "source": [
        "import seaborn as sns\n",
        "sns.heatmap(df.corr())"
      ],
      "metadata": {
        "colab": {
          "base_uri": "https://localhost:8080/",
          "height": 305
        },
        "id": "zc88CbzeqiGz",
        "outputId": "51e162b3-8ed4-47cb-eb06-ca046ce6c468"
      },
      "execution_count": null,
      "outputs": [
        {
          "output_type": "execute_result",
          "data": {
            "text/plain": [
              "<matplotlib.axes._subplots.AxesSubplot at 0x7f6d881c7160>"
            ]
          },
          "metadata": {},
          "execution_count": 15
        },
        {
          "output_type": "display_data",
          "data": {
            "text/plain": [
              "<Figure size 432x288 with 2 Axes>"
            ],
            "image/png": "[encoded data removed]"
          },
          "metadata": {
            "needs_background": "light"
          }
        }
      ]
    },
    {
      "cell_type": "code",
      "source": [
        "corr = df.corr()\n",
        "corr.style.background_gradient(cmap='coolwarm')"
      ],
      "metadata": {
        "colab": {
          "base_uri": "https://localhost:8080/",
          "height": 571
        },
        "id": "6sC5bpIQrcCW",
        "outputId": "14be79c3-6651-48c2-c534-a098d8b842c3"
      },
      "execution_count": null,
      "outputs": [
        {
          "output_type": "execute_result",
          "data": {
            "text/plain": [
              "<pandas.io.formats.style.Styler at 0x7f6d881715b0>"
            ],
            "text/html": [
              "<style type=\"text/css\">\n",
              "#T_c8ab3_row0_col0, #T_c8ab3_row1_col1, #T_c8ab3_row2_col2, #T_c8ab3_row3_col3, #T_c8ab3_row4_col4, #T_c8ab3_row5_col5, #T_c8ab3_row6_col6, #T_c8ab3_row7_col7, #T_c8ab3_row8_col8, #T_c8ab3_row9_col9, #T_c8ab3_row10_col10, #T_c8ab3_row11_col11, #T_c8ab3_row12_col12, #T_c8ab3_row13_col13, #T_c8ab3_row14_col14, #T_c8ab3_row15_col15 {\n",
              "  background-color: #b40426;\n",
              "  color: #f1f1f1;\n",
              "}\n",
              "#T_c8ab3_row0_col1, #T_c8ab3_row4_col3, #T_c8ab3_row4_col12, #T_c8ab3_row6_col10, #T_c8ab3_row9_col11 {\n",
              "  background-color: #4358cb;\n",
              "  color: #f1f1f1;\n",
              "}\n",
              "#T_c8ab3_row0_col2 {\n",
              "  background-color: #f6a385;\n",
              "  color: #000000;\n",
              "}\n",
              "#T_c8ab3_row0_col3, #T_c8ab3_row8_col14 {\n",
              "  background-color: #4055c8;\n",
              "  color: #f1f1f1;\n",
              "}\n",
              "#T_c8ab3_row0_col4 {\n",
              "  background-color: #e7d7ce;\n",
              "  color: #000000;\n",
              "}\n",
              "#T_c8ab3_row0_col5, #T_c8ab3_row14_col6 {\n",
              "  background-color: #7396f5;\n",
              "  color: #f1f1f1;\n",
              "}\n",
              "#T_c8ab3_row0_col6 {\n",
              "  background-color: #f7a98b;\n",
              "  color: #000000;\n",
              "}\n",
              "#T_c8ab3_row0_col7, #T_c8ab3_row13_col3, #T_c8ab3_row13_col14 {\n",
              "  background-color: #5b7ae5;\n",
              "  color: #f1f1f1;\n",
              "}\n",
              "#T_c8ab3_row0_col8, #T_c8ab3_row12_col7, #T_c8ab3_row15_col8 {\n",
              "  background-color: #a2c1ff;\n",
              "  color: #000000;\n",
              "}\n",
              "#T_c8ab3_row0_col9, #T_c8ab3_row13_col7, #T_c8ab3_row14_col3 {\n",
              "  background-color: #779af7;\n",
              "  color: #f1f1f1;\n",
              "}\n",
              "#T_c8ab3_row0_col10, #T_c8ab3_row6_col11, #T_c8ab3_row6_col12, #T_c8ab3_row7_col2, #T_c8ab3_row9_col13, #T_c8ab3_row9_col15 {\n",
              "  background-color: #3e51c5;\n",
              "  color: #f1f1f1;\n",
              "}\n",
              "#T_c8ab3_row0_col11, #T_c8ab3_row0_col12, #T_c8ab3_row4_col1, #T_c8ab3_row4_col5, #T_c8ab3_row4_col7, #T_c8ab3_row4_col9, #T_c8ab3_row4_col10, #T_c8ab3_row4_col14, #T_c8ab3_row5_col0, #T_c8ab3_row5_col4, #T_c8ab3_row5_col6, #T_c8ab3_row5_col8, #T_c8ab3_row5_col13, #T_c8ab3_row5_col15, #T_c8ab3_row6_col1, #T_c8ab3_row6_col3, #T_c8ab3_row12_col2 {\n",
              "  background-color: #3b4cc0;\n",
              "  color: #f1f1f1;\n",
              "}\n",
              "#T_c8ab3_row0_col13, #T_c8ab3_row1_col11, #T_c8ab3_row8_col3, #T_c8ab3_row8_col10, #T_c8ab3_row12_col0 {\n",
              "  background-color: #4961d2;\n",
              "  color: #f1f1f1;\n",
              "}\n",
              "#T_c8ab3_row0_col14, #T_c8ab3_row1_col15, #T_c8ab3_row3_col2, #T_c8ab3_row7_col0, #T_c8ab3_row7_col15 {\n",
              "  background-color: #4257c9;\n",
              "  color: #f1f1f1;\n",
              "}\n",
              "#T_c8ab3_row0_col15, #T_c8ab3_row4_col13, #T_c8ab3_row4_col15, #T_c8ab3_row6_col15, #T_c8ab3_row10_col11 {\n",
              "  background-color: #6b8df0;\n",
              "  color: #f1f1f1;\n",
              "}\n",
              "#T_c8ab3_row1_col0, #T_c8ab3_row5_col2 {\n",
              "  background-color: #445acc;\n",
              "  color: #f1f1f1;\n",
              "}\n",
              "#T_c8ab3_row1_col2, #T_c8ab3_row7_col13 {\n",
              "  background-color: #3d50c3;\n",
              "  color: #f1f1f1;\n",
              "}\n",
              "#T_c8ab3_row1_col3 {\n",
              "  background-color: #f59c7d;\n",
              "  color: #000000;\n",
              "}\n",
              "#T_c8ab3_row1_col4, #T_c8ab3_row12_col3 {\n",
              "  background-color: #7597f6;\n",
              "  color: #f1f1f1;\n",
              "}\n",
              "#T_c8ab3_row1_col5 {\n",
              "  background-color: #eed0c0;\n",
              "  color: #000000;\n",
              "}\n",
              "#T_c8ab3_row1_col6, #T_c8ab3_row13_col2, #T_c8ab3_row14_col13, #T_c8ab3_row15_col10 {\n",
              "  background-color: #5673e0;\n",
              "  color: #f1f1f1;\n",
              "}\n",
              "#T_c8ab3_row1_col7 {\n",
              "  background-color: #f7aa8c;\n",
              "  color: #000000;\n",
              "}\n",
              "#T_c8ab3_row1_col8 {\n",
              "  background-color: #6f92f3;\n",
              "  color: #f1f1f1;\n",
              "}\n",
              "#T_c8ab3_row1_col9 {\n",
              "  background-color: #abc8fd;\n",
              "  color: #000000;\n",
              "}\n",
              "#T_c8ab3_row1_col10, #T_c8ab3_row1_col13, #T_c8ab3_row6_col7, #T_c8ab3_row7_col6, #T_c8ab3_row7_col11, #T_c8ab3_row9_col4, #T_c8ab3_row9_col6, #T_c8ab3_row14_col11 {\n",
              "  background-color: #4c66d6;\n",
              "  color: #f1f1f1;\n",
              "}\n",
              "#T_c8ab3_row1_col12, #T_c8ab3_row11_col12 {\n",
              "  background-color: #7a9df8;\n",
              "  color: #f1f1f1;\n",
              "}\n",
              "#T_c8ab3_row1_col14 {\n",
              "  background-color: #7da0f9;\n",
              "  color: #f1f1f1;\n",
              "}\n",
              "#T_c8ab3_row2_col0, #T_c8ab3_row4_col6 {\n",
              "  background-color: #f49a7b;\n",
              "  color: #000000;\n",
              "}\n",
              "#T_c8ab3_row2_col1, #T_c8ab3_row3_col0, #T_c8ab3_row5_col10, #T_c8ab3_row12_col14, #T_c8ab3_row15_col3 {\n",
              "  background-color: #5572df;\n",
              "  color: #f1f1f1;\n",
              "}\n",
              "#T_c8ab3_row2_col3, #T_c8ab3_row5_col11, #T_c8ab3_row9_col10 {\n",
              "  background-color: #465ecf;\n",
              "  color: #f1f1f1;\n",
              "}\n",
              "#T_c8ab3_row2_col4 {\n",
              "  background-color: #c6d6f1;\n",
              "  color: #000000;\n",
              "}\n",
              "#T_c8ab3_row2_col5, #T_c8ab3_row13_col6 {\n",
              "  background-color: #94b6ff;\n",
              "  color: #000000;\n",
              "}\n",
              "#T_c8ab3_row2_col6 {\n",
              "  background-color: #e9d5cb;\n",
              "  color: #000000;\n",
              "}\n",
              "#T_c8ab3_row2_col7, #T_c8ab3_row3_col14, #T_c8ab3_row11_col10 {\n",
              "  background-color: #7295f4;\n",
              "  color: #f1f1f1;\n",
              "}\n",
              "#T_c8ab3_row2_col8, #T_c8ab3_row10_col8, #T_c8ab3_row10_col9 {\n",
              "  background-color: #8db0fe;\n",
              "  color: #000000;\n",
              "}\n",
              "#T_c8ab3_row2_col9 {\n",
              "  background-color: #96b7ff;\n",
              "  color: #000000;\n",
              "}\n",
              "#T_c8ab3_row2_col10, #T_c8ab3_row2_col11, #T_c8ab3_row4_col11, #T_c8ab3_row6_col14, #T_c8ab3_row8_col11 {\n",
              "  background-color: #3f53c6;\n",
              "  color: #f1f1f1;\n",
              "}\n",
              "#T_c8ab3_row2_col12, #T_c8ab3_row9_col8 {\n",
              "  background-color: #455cce;\n",
              "  color: #f1f1f1;\n",
              "}\n",
              "#T_c8ab3_row2_col13, #T_c8ab3_row3_col13, #T_c8ab3_row11_col2 {\n",
              "  background-color: #506bda;\n",
              "  color: #f1f1f1;\n",
              "}\n",
              "#T_c8ab3_row2_col14, #T_c8ab3_row3_col10, #T_c8ab3_row8_col2, #T_c8ab3_row9_col0 {\n",
              "  background-color: #516ddb;\n",
              "  color: #f1f1f1;\n",
              "}\n",
              "#T_c8ab3_row2_col15, #T_c8ab3_row6_col9, #T_c8ab3_row7_col8, #T_c8ab3_row15_col2, #T_c8ab3_row15_col13 {\n",
              "  background-color: #5875e1;\n",
              "  color: #f1f1f1;\n",
              "}\n",
              "#T_c8ab3_row3_col1 {\n",
              "  background-color: #f39577;\n",
              "  color: #000000;\n",
              "}\n",
              "#T_c8ab3_row3_col4, #T_c8ab3_row11_col7 {\n",
              "  background-color: #8fb1fe;\n",
              "  color: #000000;\n",
              "}\n",
              "#T_c8ab3_row3_col5, #T_c8ab3_row9_col7 {\n",
              "  background-color: #d9dce1;\n",
              "  color: #000000;\n",
              "}\n",
              "#T_c8ab3_row3_col6, #T_c8ab3_row13_col0 {\n",
              "  background-color: #688aef;\n",
              "  color: #f1f1f1;\n",
              "}\n",
              "#T_c8ab3_row3_col7 {\n",
              "  background-color: #efcfbf;\n",
              "  color: #000000;\n",
              "}\n",
              "#T_c8ab3_row3_col8 {\n",
              "  background-color: #81a4fb;\n",
              "  color: #f1f1f1;\n",
              "}\n",
              "#T_c8ab3_row3_col9 {\n",
              "  background-color: #9abbff;\n",
              "  color: #000000;\n",
              "}\n",
              "#T_c8ab3_row3_col11 {\n",
              "  background-color: #4b64d5;\n",
              "  color: #f1f1f1;\n",
              "}\n",
              "#T_c8ab3_row3_col12 {\n",
              "  background-color: #7b9ff9;\n",
              "  color: #f1f1f1;\n",
              "}\n",
              "#T_c8ab3_row3_col15, #T_c8ab3_row8_col5 {\n",
              "  background-color: #4f69d9;\n",
              "  color: #f1f1f1;\n",
              "}\n",
              "#T_c8ab3_row4_col0, #T_c8ab3_row10_col12 {\n",
              "  background-color: #cdd9ec;\n",
              "  color: #000000;\n",
              "}\n",
              "#T_c8ab3_row4_col2, #T_c8ab3_row12_col1, #T_c8ab3_row12_col8, #T_c8ab3_row15_col0 {\n",
              "  background-color: #85a8fc;\n",
              "  color: #f1f1f1;\n",
              "}\n",
              "#T_c8ab3_row4_col8 {\n",
              "  background-color: #f7b497;\n",
              "  color: #000000;\n",
              "}\n",
              "#T_c8ab3_row5_col1, #T_c8ab3_row8_col6 {\n",
              "  background-color: #d8dce2;\n",
              "  color: #000000;\n",
              "}\n",
              "#T_c8ab3_row5_col3, #T_c8ab3_row14_col9 {\n",
              "  background-color: #a9c6fd;\n",
              "  color: #000000;\n",
              "}\n",
              "#T_c8ab3_row5_col7 {\n",
              "  background-color: #f29274;\n",
              "  color: #f1f1f1;\n",
              "}\n",
              "#T_c8ab3_row5_col9, #T_c8ab3_row7_col1 {\n",
              "  background-color: #f7b599;\n",
              "  color: #000000;\n",
              "}\n",
              "#T_c8ab3_row5_col12, #T_c8ab3_row5_col14, #T_c8ab3_row7_col14 {\n",
              "  background-color: #88abfd;\n",
              "  color: #000000;\n",
              "}\n",
              "#T_c8ab3_row6_col0 {\n",
              "  background-color: #f7b396;\n",
              "  color: #000000;\n",
              "}\n",
              "#T_c8ab3_row6_col2 {\n",
              "  background-color: #d2dbe8;\n",
              "  color: #000000;\n",
              "}\n",
              "#T_c8ab3_row6_col4 {\n",
              "  background-color: #f18f71;\n",
              "  color: #f1f1f1;\n",
              "}\n",
              "#T_c8ab3_row6_col5, #T_c8ab3_row7_col4, #T_c8ab3_row7_col10, #T_c8ab3_row9_col2, #T_c8ab3_row14_col15, #T_c8ab3_row15_col14 {\n",
              "  background-color: #5977e3;\n",
              "  color: #f1f1f1;\n",
              "}\n",
              "#T_c8ab3_row6_col8 {\n",
              "  background-color: #dcdddd;\n",
              "  color: #000000;\n",
              "}\n",
              "#T_c8ab3_row6_col13, #T_c8ab3_row10_col15 {\n",
              "  background-color: #5e7de7;\n",
              "  color: #f1f1f1;\n",
              "}\n",
              "#T_c8ab3_row7_col3, #T_c8ab3_row7_col9 {\n",
              "  background-color: #dedcdb;\n",
              "  color: #000000;\n",
              "}\n",
              "#T_c8ab3_row7_col5 {\n",
              "  background-color: #ef886b;\n",
              "  color: #f1f1f1;\n",
              "}\n",
              "#T_c8ab3_row7_col12, #T_c8ab3_row14_col8, #T_c8ab3_row15_col9 {\n",
              "  background-color: #7ea1fa;\n",
              "  color: #f1f1f1;\n",
              "}\n",
              "#T_c8ab3_row8_col0, #T_c8ab3_row11_col6 {\n",
              "  background-color: #82a6fb;\n",
              "  color: #f1f1f1;\n",
              "}\n",
              "#T_c8ab3_row8_col1 {\n",
              "  background-color: #4a63d3;\n",
              "  color: #f1f1f1;\n",
              "}\n",
              "#T_c8ab3_row8_col4 {\n",
              "  background-color: #f7ad90;\n",
              "  color: #000000;\n",
              "}\n",
              "#T_c8ab3_row8_col7 {\n",
              "  background-color: #4e68d8;\n",
              "  color: #f1f1f1;\n",
              "}\n",
              "#T_c8ab3_row8_col9, #T_c8ab3_row10_col2 {\n",
              "  background-color: #485fd1;\n",
              "  color: #f1f1f1;\n",
              "}\n",
              "#T_c8ab3_row8_col12, #T_c8ab3_row15_col11 {\n",
              "  background-color: #5470de;\n",
              "  color: #f1f1f1;\n",
              "}\n",
              "#T_c8ab3_row8_col13, #T_c8ab3_row9_col3, #T_c8ab3_row10_col14, #T_c8ab3_row11_col15, #T_c8ab3_row14_col12 {\n",
              "  background-color: #6282ea;\n",
              "  color: #f1f1f1;\n",
              "}\n",
              "#T_c8ab3_row8_col15, #T_c8ab3_row12_col6 {\n",
              "  background-color: #6788ee;\n",
              "  color: #f1f1f1;\n",
              "}\n",
              "#T_c8ab3_row9_col1, #T_c8ab3_row12_col4 {\n",
              "  background-color: #89acfd;\n",
              "  color: #000000;\n",
              "}\n",
              "#T_c8ab3_row9_col5 {\n",
              "  background-color: #f7af91;\n",
              "  color: #000000;\n",
              "}\n",
              "#T_c8ab3_row9_col12, #T_c8ab3_row10_col13, #T_c8ab3_row11_col1, #T_c8ab3_row15_col12 {\n",
              "  background-color: #7093f3;\n",
              "  color: #f1f1f1;\n",
              "}\n",
              "#T_c8ab3_row9_col14, #T_c8ab3_row13_col10 {\n",
              "  background-color: #6e90f2;\n",
              "  color: #f1f1f1;\n",
              "}\n",
              "#T_c8ab3_row10_col0, #T_c8ab3_row11_col3 {\n",
              "  background-color: #6180e9;\n",
              "  color: #f1f1f1;\n",
              "}\n",
              "#T_c8ab3_row10_col1 {\n",
              "  background-color: #6c8ff1;\n",
              "  color: #f1f1f1;\n",
              "}\n",
              "#T_c8ab3_row10_col3, #T_c8ab3_row12_col11 {\n",
              "  background-color: #5f7fe8;\n",
              "  color: #f1f1f1;\n",
              "}\n",
              "#T_c8ab3_row10_col4, #T_c8ab3_row10_col7, #T_c8ab3_row14_col1 {\n",
              "  background-color: #93b5fe;\n",
              "  color: #000000;\n",
              "}\n",
              "#T_c8ab3_row10_col5 {\n",
              "  background-color: #aac7fd;\n",
              "  color: #000000;\n",
              "}\n",
              "#T_c8ab3_row10_col6 {\n",
              "  background-color: #80a3fa;\n",
              "  color: #f1f1f1;\n",
              "}\n",
              "#T_c8ab3_row11_col0 {\n",
              "  background-color: #6384eb;\n",
              "  color: #f1f1f1;\n",
              "}\n",
              "#T_c8ab3_row11_col4 {\n",
              "  background-color: #9ebeff;\n",
              "  color: #000000;\n",
              "}\n",
              "#T_c8ab3_row11_col5 {\n",
              "  background-color: #a3c2fe;\n",
              "  color: #000000;\n",
              "}\n",
              "#T_c8ab3_row11_col8 {\n",
              "  background-color: #8badfd;\n",
              "  color: #000000;\n",
              "}\n",
              "#T_c8ab3_row11_col9 {\n",
              "  background-color: #92b4fe;\n",
              "  color: #000000;\n",
              "}\n",
              "#T_c8ab3_row11_col13 {\n",
              "  background-color: #bad0f8;\n",
              "  color: #000000;\n",
              "}\n",
              "#T_c8ab3_row11_col14, #T_c8ab3_row14_col10, #T_c8ab3_row15_col1 {\n",
              "  background-color: #5a78e4;\n",
              "  color: #f1f1f1;\n",
              "}\n",
              "#T_c8ab3_row12_col5 {\n",
              "  background-color: #c0d4f5;\n",
              "  color: #000000;\n",
              "}\n",
              "#T_c8ab3_row12_col9, #T_c8ab3_row13_col8 {\n",
              "  background-color: #a1c0ff;\n",
              "  color: #000000;\n",
              "}\n",
              "#T_c8ab3_row12_col10 {\n",
              "  background-color: #c1d4f4;\n",
              "  color: #000000;\n",
              "}\n",
              "#T_c8ab3_row12_col13, #T_c8ab3_row14_col4, #T_c8ab3_row15_col5 {\n",
              "  background-color: #8caffe;\n",
              "  color: #000000;\n",
              "}\n",
              "#T_c8ab3_row12_col15 {\n",
              "  background-color: #6485ec;\n",
              "  color: #f1f1f1;\n",
              "}\n",
              "#T_c8ab3_row13_col1 {\n",
              "  background-color: #6a8bef;\n",
              "  color: #f1f1f1;\n",
              "}\n",
              "#T_c8ab3_row13_col4 {\n",
              "  background-color: #b7cff9;\n",
              "  color: #000000;\n",
              "}\n",
              "#T_c8ab3_row13_col5 {\n",
              "  background-color: #90b2fe;\n",
              "  color: #000000;\n",
              "}\n",
              "#T_c8ab3_row13_col9 {\n",
              "  background-color: #84a7fc;\n",
              "  color: #f1f1f1;\n",
              "}\n",
              "#T_c8ab3_row13_col11 {\n",
              "  background-color: #b2ccfb;\n",
              "  color: #000000;\n",
              "}\n",
              "#T_c8ab3_row13_col12, #T_c8ab3_row15_col6 {\n",
              "  background-color: #9dbdff;\n",
              "  color: #000000;\n",
              "}\n",
              "#T_c8ab3_row13_col15, #T_c8ab3_row14_col0 {\n",
              "  background-color: #5d7ce6;\n",
              "  color: #f1f1f1;\n",
              "}\n",
              "#T_c8ab3_row14_col2 {\n",
              "  background-color: #536edd;\n",
              "  color: #f1f1f1;\n",
              "}\n",
              "#T_c8ab3_row14_col5 {\n",
              "  background-color: #c9d7f0;\n",
              "  color: #000000;\n",
              "}\n",
              "#T_c8ab3_row14_col7 {\n",
              "  background-color: #b3cdfb;\n",
              "  color: #000000;\n",
              "}\n",
              "#T_c8ab3_row15_col4 {\n",
              "  background-color: #b5cdfa;\n",
              "  color: #000000;\n",
              "}\n",
              "#T_c8ab3_row15_col7 {\n",
              "  background-color: #7699f6;\n",
              "  color: #f1f1f1;\n",
              "}\n",
              "</style>\n",
              "<table id=\"T_c8ab3_\" class=\"dataframe\">\n",
              "  <thead>\n",
              "    <tr>\n",
              "      <th class=\"blank level0\" >&nbsp;</th>\n",
              "      <th class=\"col_heading level0 col0\" >FTHG</th>\n",
              "      <th class=\"col_heading level0 col1\" >FTAG</th>\n",
              "      <th class=\"col_heading level0 col2\" >HTHG</th>\n",
              "      <th class=\"col_heading level0 col3\" >HTAG</th>\n",
              "      <th class=\"col_heading level0 col4\" >HS</th>\n",
              "      <th class=\"col_heading level0 col5\" >AS</th>\n",
              "      <th class=\"col_heading level0 col6\" >HST</th>\n",
              "      <th class=\"col_heading level0 col7\" >AST</th>\n",
              "      <th class=\"col_heading level0 col8\" >HC</th>\n",
              "      <th class=\"col_heading level0 col9\" >AC</th>\n",
              "      <th class=\"col_heading level0 col10\" >HF</th>\n",
              "      <th class=\"col_heading level0 col11\" >AF</th>\n",
              "      <th class=\"col_heading level0 col12\" >HY</th>\n",
              "      <th class=\"col_heading level0 col13\" >AY</th>\n",
              "      <th class=\"col_heading level0 col14\" >HR</th>\n",
              "      <th class=\"col_heading level0 col15\" >AR</th>\n",
              "    </tr>\n",
              "  </thead>\n",
              "  <tbody>\n",
              "    <tr>\n",
              "      <th id=\"T_c8ab3_level0_row0\" class=\"row_heading level0 row0\" >FTHG</th>\n",
              "      <td id=\"T_c8ab3_row0_col0\" class=\"data row0 col0\" >1.000000</td>\n",
              "      <td id=\"T_c8ab3_row0_col1\" class=\"data row0 col1\" >-0.160833</td>\n",
              "      <td id=\"T_c8ab3_row0_col2\" class=\"data row0 col2\" >0.697122</td>\n",
              "      <td id=\"T_c8ab3_row0_col3\" class=\"data row0 col3\" >-0.095593</td>\n",
              "      <td id=\"T_c8ab3_row0_col4\" class=\"data row0 col4\" >0.328985</td>\n",
              "      <td id=\"T_c8ab3_row0_col5\" class=\"data row0 col5\" >-0.203026</td>\n",
              "      <td id=\"T_c8ab3_row0_col6\" class=\"data row0 col6\" >0.618770</td>\n",
              "      <td id=\"T_c8ab3_row0_col7\" class=\"data row0 col7\" >-0.174000</td>\n",
              "      <td id=\"T_c8ab3_row0_col8\" class=\"data row0 col8\" >0.061192</td>\n",
              "      <td id=\"T_c8ab3_row0_col9\" class=\"data row0 col9\" >-0.112222</td>\n",
              "      <td id=\"T_c8ab3_row0_col10\" class=\"data row0 col10\" >-0.055326</td>\n",
              "      <td id=\"T_c8ab3_row0_col11\" class=\"data row0 col11\" >-0.043714</td>\n",
              "      <td id=\"T_c8ab3_row0_col12\" class=\"data row0 col12\" >-0.145178</td>\n",
              "      <td id=\"T_c8ab3_row0_col13\" class=\"data row0 col13\" >-0.027306</td>\n",
              "      <td id=\"T_c8ab3_row0_col14\" class=\"data row0 col14\" >-0.068783</td>\n",
              "      <td id=\"T_c8ab3_row0_col15\" class=\"data row0 col15\" >0.070114</td>\n",
              "    </tr>\n",
              "    <tr>\n",
              "      <th id=\"T_c8ab3_level0_row1\" class=\"row_heading level0 row1\" >FTAG</th>\n",
              "      <td id=\"T_c8ab3_row1_col0\" class=\"data row1 col0\" >-0.160833</td>\n",
              "      <td id=\"T_c8ab3_row1_col1\" class=\"data row1 col1\" >1.000000</td>\n",
              "      <td id=\"T_c8ab3_row1_col2\" class=\"data row1 col2\" >-0.090266</td>\n",
              "      <td id=\"T_c8ab3_row1_col3\" class=\"data row1 col3\" >0.714064</td>\n",
              "      <td id=\"T_c8ab3_row1_col4\" class=\"data row1 col4\" >-0.194147</td>\n",
              "      <td id=\"T_c8ab3_row1_col5\" class=\"data row1 col5\" >0.381333</td>\n",
              "      <td id=\"T_c8ab3_row1_col6\" class=\"data row1 col6\" >-0.192813</td>\n",
              "      <td id=\"T_c8ab3_row1_col7\" class=\"data row1 col7\" >0.612665</td>\n",
              "      <td id=\"T_c8ab3_row1_col8\" class=\"data row1 col8\" >-0.132672</td>\n",
              "      <td id=\"T_c8ab3_row1_col9\" class=\"data row1 col9\" >0.091761</td>\n",
              "      <td id=\"T_c8ab3_row1_col10\" class=\"data row1 col10\" >-0.003384</td>\n",
              "      <td id=\"T_c8ab3_row1_col11\" class=\"data row1 col11\" >0.008719</td>\n",
              "      <td id=\"T_c8ab3_row1_col12\" class=\"data row1 col12\" >0.079028</td>\n",
              "      <td id=\"T_c8ab3_row1_col13\" class=\"data row1 col13\" >-0.015045</td>\n",
              "      <td id=\"T_c8ab3_row1_col14\" class=\"data row1 col14\" >0.126717</td>\n",
              "      <td id=\"T_c8ab3_row1_col15\" class=\"data row1 col15\" >-0.070104</td>\n",
              "    </tr>\n",
              "    <tr>\n",
              "      <th id=\"T_c8ab3_level0_row2\" class=\"row_heading level0 row2\" >HTHG</th>\n",
              "      <td id=\"T_c8ab3_row2_col0\" class=\"data row2 col0\" >0.697122</td>\n",
              "      <td id=\"T_c8ab3_row2_col1\" class=\"data row2 col1\" >-0.090266</td>\n",
              "      <td id=\"T_c8ab3_row2_col2\" class=\"data row2 col2\" >1.000000</td>\n",
              "      <td id=\"T_c8ab3_row2_col3\" class=\"data row2 col3\" >-0.073129</td>\n",
              "      <td id=\"T_c8ab3_row2_col4\" class=\"data row2 col4\" >0.150847</td>\n",
              "      <td id=\"T_c8ab3_row2_col5\" class=\"data row2 col5\" >-0.066597</td>\n",
              "      <td id=\"T_c8ab3_row2_col6\" class=\"data row2 col6\" >0.405657</td>\n",
              "      <td id=\"T_c8ab3_row2_col7\" class=\"data row2 col7\" >-0.086053</td>\n",
              "      <td id=\"T_c8ab3_row2_col8\" class=\"data row2 col8\" >-0.018096</td>\n",
              "      <td id=\"T_c8ab3_row2_col9\" class=\"data row2 col9\" >0.008180</td>\n",
              "      <td id=\"T_c8ab3_row2_col10\" class=\"data row2 col10\" >-0.052517</td>\n",
              "      <td id=\"T_c8ab3_row2_col11\" class=\"data row2 col11\" >-0.023728</td>\n",
              "      <td id=\"T_c8ab3_row2_col12\" class=\"data row2 col12\" >-0.102139</td>\n",
              "      <td id=\"T_c8ab3_row2_col13\" class=\"data row2 col13\" >0.000088</td>\n",
              "      <td id=\"T_c8ab3_row2_col14\" class=\"data row2 col14\" >-0.013304</td>\n",
              "      <td id=\"T_c8ab3_row2_col15\" class=\"data row2 col15\" >0.005463</td>\n",
              "    </tr>\n",
              "    <tr>\n",
              "      <th id=\"T_c8ab3_level0_row3\" class=\"row_heading level0 row3\" >HTAG</th>\n",
              "      <td id=\"T_c8ab3_row3_col0\" class=\"data row3 col0\" >-0.095593</td>\n",
              "      <td id=\"T_c8ab3_row3_col1\" class=\"data row3 col1\" >0.714064</td>\n",
              "      <td id=\"T_c8ab3_row3_col2\" class=\"data row3 col2\" >-0.073129</td>\n",
              "      <td id=\"T_c8ab3_row3_col3\" class=\"data row3 col3\" >1.000000</td>\n",
              "      <td id=\"T_c8ab3_row3_col4\" class=\"data row3 col4\" >-0.089750</td>\n",
              "      <td id=\"T_c8ab3_row3_col5\" class=\"data row3 col5\" >0.250322</td>\n",
              "      <td id=\"T_c8ab3_row3_col6\" class=\"data row3 col6\" >-0.120959</td>\n",
              "      <td id=\"T_c8ab3_row3_col7\" class=\"data row3 col7\" >0.447425</td>\n",
              "      <td id=\"T_c8ab3_row3_col8\" class=\"data row3 col8\" >-0.064731</td>\n",
              "      <td id=\"T_c8ab3_row3_col9\" class=\"data row3 col9\" >0.020074</td>\n",
              "      <td id=\"T_c8ab3_row3_col10\" class=\"data row3 col10\" >0.012951</td>\n",
              "      <td id=\"T_c8ab3_row3_col11\" class=\"data row3 col11\" >0.016608</td>\n",
              "      <td id=\"T_c8ab3_row3_col12\" class=\"data row3 col12\" >0.083361</td>\n",
              "      <td id=\"T_c8ab3_row3_col13\" class=\"data row3 col13\" >-0.001141</td>\n",
              "      <td id=\"T_c8ab3_row3_col14\" class=\"data row3 col14\" >0.093504</td>\n",
              "      <td id=\"T_c8ab3_row3_col15\" class=\"data row3 col15\" >-0.021096</td>\n",
              "    </tr>\n",
              "    <tr>\n",
              "      <th id=\"T_c8ab3_level0_row4\" class=\"row_heading level0 row4\" >HS</th>\n",
              "      <td id=\"T_c8ab3_row4_col0\" class=\"data row4 col0\" >0.328985</td>\n",
              "      <td id=\"T_c8ab3_row4_col1\" class=\"data row4 col1\" >-0.194147</td>\n",
              "      <td id=\"T_c8ab3_row4_col2\" class=\"data row4 col2\" >0.150847</td>\n",
              "      <td id=\"T_c8ab3_row4_col3\" class=\"data row4 col3\" >-0.089750</td>\n",
              "      <td id=\"T_c8ab3_row4_col4\" class=\"data row4 col4\" >1.000000</td>\n",
              "      <td id=\"T_c8ab3_row4_col5\" class=\"data row4 col5\" >-0.460677</td>\n",
              "      <td id=\"T_c8ab3_row4_col6\" class=\"data row4 col6\" >0.669353</td>\n",
              "      <td id=\"T_c8ab3_row4_col7\" class=\"data row4 col7\" >-0.314318</td>\n",
              "      <td id=\"T_c8ab3_row4_col8\" class=\"data row4 col8\" >0.560342</td>\n",
              "      <td id=\"T_c8ab3_row4_col9\" class=\"data row4 col9\" >-0.371959</td>\n",
              "      <td id=\"T_c8ab3_row4_col10\" class=\"data row4 col10\" >-0.069244</td>\n",
              "      <td id=\"T_c8ab3_row4_col11\" class=\"data row4 col11\" >-0.025502</td>\n",
              "      <td id=\"T_c8ab3_row4_col12\" class=\"data row4 col12\" >-0.111718</td>\n",
              "      <td id=\"T_c8ab3_row4_col13\" class=\"data row4 col13\" >0.087011</td>\n",
              "      <td id=\"T_c8ab3_row4_col14\" class=\"data row4 col14\" >-0.097852</td>\n",
              "      <td id=\"T_c8ab3_row4_col15\" class=\"data row4 col15\" >0.071994</td>\n",
              "    </tr>\n",
              "    <tr>\n",
              "      <th id=\"T_c8ab3_level0_row5\" class=\"row_heading level0 row5\" >AS</th>\n",
              "      <td id=\"T_c8ab3_row5_col0\" class=\"data row5 col0\" >-0.203026</td>\n",
              "      <td id=\"T_c8ab3_row5_col1\" class=\"data row5 col1\" >0.381333</td>\n",
              "      <td id=\"T_c8ab3_row5_col2\" class=\"data row5 col2\" >-0.066597</td>\n",
              "      <td id=\"T_c8ab3_row5_col3\" class=\"data row5 col3\" >0.250322</td>\n",
              "      <td id=\"T_c8ab3_row5_col4\" class=\"data row5 col4\" >-0.460677</td>\n",
              "      <td id=\"T_c8ab3_row5_col5\" class=\"data row5 col5\" >1.000000</td>\n",
              "      <td id=\"T_c8ab3_row5_col6\" class=\"data row5 col6\" >-0.315718</td>\n",
              "      <td id=\"T_c8ab3_row5_col7\" class=\"data row5 col7\" >0.694392</td>\n",
              "      <td id=\"T_c8ab3_row5_col8\" class=\"data row5 col8\" >-0.358725</td>\n",
              "      <td id=\"T_c8ab3_row5_col9\" class=\"data row5 col9\" >0.553101</td>\n",
              "      <td id=\"T_c8ab3_row5_col10\" class=\"data row5 col10\" >0.026502</td>\n",
              "      <td id=\"T_c8ab3_row5_col11\" class=\"data row5 col11\" >-0.000541</td>\n",
              "      <td id=\"T_c8ab3_row5_col12\" class=\"data row5 col12\" >0.126322</td>\n",
              "      <td id=\"T_c8ab3_row5_col13\" class=\"data row5 col13\" >-0.078682</td>\n",
              "      <td id=\"T_c8ab3_row5_col14\" class=\"data row5 col14\" >0.161516</td>\n",
              "      <td id=\"T_c8ab3_row5_col15\" class=\"data row5 col15\" >-0.097570</td>\n",
              "    </tr>\n",
              "    <tr>\n",
              "      <th id=\"T_c8ab3_level0_row6\" class=\"row_heading level0 row6\" >HST</th>\n",
              "      <td id=\"T_c8ab3_row6_col0\" class=\"data row6 col0\" >0.618770</td>\n",
              "      <td id=\"T_c8ab3_row6_col1\" class=\"data row6 col1\" >-0.192813</td>\n",
              "      <td id=\"T_c8ab3_row6_col2\" class=\"data row6 col2\" >0.405657</td>\n",
              "      <td id=\"T_c8ab3_row6_col3\" class=\"data row6 col3\" >-0.120959</td>\n",
              "      <td id=\"T_c8ab3_row6_col4\" class=\"data row6 col4\" >0.669353</td>\n",
              "      <td id=\"T_c8ab3_row6_col5\" class=\"data row6 col5\" >-0.315718</td>\n",
              "      <td id=\"T_c8ab3_row6_col6\" class=\"data row6 col6\" >1.000000</td>\n",
              "      <td id=\"T_c8ab3_row6_col7\" class=\"data row6 col7\" >-0.236956</td>\n",
              "      <td id=\"T_c8ab3_row6_col8\" class=\"data row6 col8\" >0.319110</td>\n",
              "      <td id=\"T_c8ab3_row6_col9\" class=\"data row6 col9\" >-0.238361</td>\n",
              "      <td id=\"T_c8ab3_row6_col10\" class=\"data row6 col10\" >-0.037099</td>\n",
              "      <td id=\"T_c8ab3_row6_col11\" class=\"data row6 col11\" >-0.027573</td>\n",
              "      <td id=\"T_c8ab3_row6_col12\" class=\"data row6 col12\" >-0.129773</td>\n",
              "      <td id=\"T_c8ab3_row6_col13\" class=\"data row6 col13\" >0.043696</td>\n",
              "      <td id=\"T_c8ab3_row6_col14\" class=\"data row6 col14\" >-0.080049</td>\n",
              "      <td id=\"T_c8ab3_row6_col15\" class=\"data row6 col15\" >0.073334</td>\n",
              "    </tr>\n",
              "    <tr>\n",
              "      <th id=\"T_c8ab3_level0_row7\" class=\"row_heading level0 row7\" >AST</th>\n",
              "      <td id=\"T_c8ab3_row7_col0\" class=\"data row7 col0\" >-0.174000</td>\n",
              "      <td id=\"T_c8ab3_row7_col1\" class=\"data row7 col1\" >0.612665</td>\n",
              "      <td id=\"T_c8ab3_row7_col2\" class=\"data row7 col2\" >-0.086053</td>\n",
              "      <td id=\"T_c8ab3_row7_col3\" class=\"data row7 col3\" >0.447425</td>\n",
              "      <td id=\"T_c8ab3_row7_col4\" class=\"data row7 col4\" >-0.314318</td>\n",
              "      <td id=\"T_c8ab3_row7_col5\" class=\"data row7 col5\" >0.694392</td>\n",
              "      <td id=\"T_c8ab3_row7_col6\" class=\"data row7 col6\" >-0.236956</td>\n",
              "      <td id=\"T_c8ab3_row7_col7\" class=\"data row7 col7\" >1.000000</td>\n",
              "      <td id=\"T_c8ab3_row7_col8\" class=\"data row7 col8\" >-0.230852</td>\n",
              "      <td id=\"T_c8ab3_row7_col9\" class=\"data row7 col9\" >0.323916</td>\n",
              "      <td id=\"T_c8ab3_row7_col10\" class=\"data row7 col10\" >0.039235</td>\n",
              "      <td id=\"T_c8ab3_row7_col11\" class=\"data row7 col11\" >0.020318</td>\n",
              "      <td id=\"T_c8ab3_row7_col12\" class=\"data row7 col12\" >0.092046</td>\n",
              "      <td id=\"T_c8ab3_row7_col13\" class=\"data row7 col13\" >-0.066219</td>\n",
              "      <td id=\"T_c8ab3_row7_col14\" class=\"data row7 col14\" >0.162496</td>\n",
              "      <td id=\"T_c8ab3_row7_col15\" class=\"data row7 col15\" >-0.068744</td>\n",
              "    </tr>\n",
              "    <tr>\n",
              "      <th id=\"T_c8ab3_level0_row8\" class=\"row_heading level0 row8\" >HC</th>\n",
              "      <td id=\"T_c8ab3_row8_col0\" class=\"data row8 col0\" >0.061192</td>\n",
              "      <td id=\"T_c8ab3_row8_col1\" class=\"data row8 col1\" >-0.132672</td>\n",
              "      <td id=\"T_c8ab3_row8_col2\" class=\"data row8 col2\" >-0.018096</td>\n",
              "      <td id=\"T_c8ab3_row8_col3\" class=\"data row8 col3\" >-0.064731</td>\n",
              "      <td id=\"T_c8ab3_row8_col4\" class=\"data row8 col4\" >0.560342</td>\n",
              "      <td id=\"T_c8ab3_row8_col5\" class=\"data row8 col5\" >-0.358725</td>\n",
              "      <td id=\"T_c8ab3_row8_col6\" class=\"data row8 col6\" >0.319110</td>\n",
              "      <td id=\"T_c8ab3_row8_col7\" class=\"data row8 col7\" >-0.230852</td>\n",
              "      <td id=\"T_c8ab3_row8_col8\" class=\"data row8 col8\" >1.000000</td>\n",
              "      <td id=\"T_c8ab3_row8_col9\" class=\"data row8 col9\" >-0.309491</td>\n",
              "      <td id=\"T_c8ab3_row8_col10\" class=\"data row8 col10\" >-0.018908</td>\n",
              "      <td id=\"T_c8ab3_row8_col11\" class=\"data row8 col11\" >-0.027255</td>\n",
              "      <td id=\"T_c8ab3_row8_col12\" class=\"data row8 col12\" >-0.047322</td>\n",
              "      <td id=\"T_c8ab3_row8_col13\" class=\"data row8 col13\" >0.056384</td>\n",
              "      <td id=\"T_c8ab3_row8_col14\" class=\"data row8 col14\" >-0.072280</td>\n",
              "      <td id=\"T_c8ab3_row8_col15\" class=\"data row8 col15\" >0.060689</td>\n",
              "    </tr>\n",
              "    <tr>\n",
              "      <th id=\"T_c8ab3_level0_row9\" class=\"row_heading level0 row9\" >AC</th>\n",
              "      <td id=\"T_c8ab3_row9_col0\" class=\"data row9 col0\" >-0.112222</td>\n",
              "      <td id=\"T_c8ab3_row9_col1\" class=\"data row9 col1\" >0.091761</td>\n",
              "      <td id=\"T_c8ab3_row9_col2\" class=\"data row9 col2\" >0.008180</td>\n",
              "      <td id=\"T_c8ab3_row9_col3\" class=\"data row9 col3\" >0.020074</td>\n",
              "      <td id=\"T_c8ab3_row9_col4\" class=\"data row9 col4\" >-0.371959</td>\n",
              "      <td id=\"T_c8ab3_row9_col5\" class=\"data row9 col5\" >0.553101</td>\n",
              "      <td id=\"T_c8ab3_row9_col6\" class=\"data row9 col6\" >-0.238361</td>\n",
              "      <td id=\"T_c8ab3_row9_col7\" class=\"data row9 col7\" >0.323916</td>\n",
              "      <td id=\"T_c8ab3_row9_col8\" class=\"data row9 col8\" >-0.309491</td>\n",
              "      <td id=\"T_c8ab3_row9_col9\" class=\"data row9 col9\" >1.000000</td>\n",
              "      <td id=\"T_c8ab3_row9_col10\" class=\"data row9 col10\" >-0.024426</td>\n",
              "      <td id=\"T_c8ab3_row9_col11\" class=\"data row9 col11\" >-0.012242</td>\n",
              "      <td id=\"T_c8ab3_row9_col12\" class=\"data row9 col12\" >0.051038</td>\n",
              "      <td id=\"T_c8ab3_row9_col13\" class=\"data row9 col13\" >-0.063096</td>\n",
              "      <td id=\"T_c8ab3_row9_col14\" class=\"data row9 col14\" >0.082106</td>\n",
              "      <td id=\"T_c8ab3_row9_col15\" class=\"data row9 col15\" >-0.083243</td>\n",
              "    </tr>\n",
              "    <tr>\n",
              "      <th id=\"T_c8ab3_level0_row10\" class=\"row_heading level0 row10\" >HF</th>\n",
              "      <td id=\"T_c8ab3_row10_col0\" class=\"data row10 col0\" >-0.055326</td>\n",
              "      <td id=\"T_c8ab3_row10_col1\" class=\"data row10 col1\" >-0.003384</td>\n",
              "      <td id=\"T_c8ab3_row10_col2\" class=\"data row10 col2\" >-0.052517</td>\n",
              "      <td id=\"T_c8ab3_row10_col3\" class=\"data row10 col3\" >0.012951</td>\n",
              "      <td id=\"T_c8ab3_row10_col4\" class=\"data row10 col4\" >-0.069244</td>\n",
              "      <td id=\"T_c8ab3_row10_col5\" class=\"data row10 col5\" >0.026502</td>\n",
              "      <td id=\"T_c8ab3_row10_col6\" class=\"data row10 col6\" >-0.037099</td>\n",
              "      <td id=\"T_c8ab3_row10_col7\" class=\"data row10 col7\" >0.039235</td>\n",
              "      <td id=\"T_c8ab3_row10_col8\" class=\"data row10 col8\" >-0.018908</td>\n",
              "      <td id=\"T_c8ab3_row10_col9\" class=\"data row10 col9\" >-0.024426</td>\n",
              "      <td id=\"T_c8ab3_row10_col10\" class=\"data row10 col10\" >1.000000</td>\n",
              "      <td id=\"T_c8ab3_row10_col11\" class=\"data row10 col11\" >0.116920</td>\n",
              "      <td id=\"T_c8ab3_row10_col12\" class=\"data row10 col12\" >0.363109</td>\n",
              "      <td id=\"T_c8ab3_row10_col13\" class=\"data row10 col13\" >0.105287</td>\n",
              "      <td id=\"T_c8ab3_row10_col14\" class=\"data row10 col14\" >0.040883</td>\n",
              "      <td id=\"T_c8ab3_row10_col15\" class=\"data row10 col15\" >0.030306</td>\n",
              "    </tr>\n",
              "    <tr>\n",
              "      <th id=\"T_c8ab3_level0_row11\" class=\"row_heading level0 row11\" >AF</th>\n",
              "      <td id=\"T_c8ab3_row11_col0\" class=\"data row11 col0\" >-0.043714</td>\n",
              "      <td id=\"T_c8ab3_row11_col1\" class=\"data row11 col1\" >0.008719</td>\n",
              "      <td id=\"T_c8ab3_row11_col2\" class=\"data row11 col2\" >-0.023728</td>\n",
              "      <td id=\"T_c8ab3_row11_col3\" class=\"data row11 col3\" >0.016608</td>\n",
              "      <td id=\"T_c8ab3_row11_col4\" class=\"data row11 col4\" >-0.025502</td>\n",
              "      <td id=\"T_c8ab3_row11_col5\" class=\"data row11 col5\" >-0.000541</td>\n",
              "      <td id=\"T_c8ab3_row11_col6\" class=\"data row11 col6\" >-0.027573</td>\n",
              "      <td id=\"T_c8ab3_row11_col7\" class=\"data row11 col7\" >0.020318</td>\n",
              "      <td id=\"T_c8ab3_row11_col8\" class=\"data row11 col8\" >-0.027255</td>\n",
              "      <td id=\"T_c8ab3_row11_col9\" class=\"data row11 col9\" >-0.012242</td>\n",
              "      <td id=\"T_c8ab3_row11_col10\" class=\"data row11 col10\" >0.116920</td>\n",
              "      <td id=\"T_c8ab3_row11_col11\" class=\"data row11 col11\" >1.000000</td>\n",
              "      <td id=\"T_c8ab3_row11_col12\" class=\"data row11 col12\" >0.081326</td>\n",
              "      <td id=\"T_c8ab3_row11_col13\" class=\"data row11 col13\" >0.330946</td>\n",
              "      <td id=\"T_c8ab3_row11_col14\" class=\"data row11 col14\" >0.017737</td>\n",
              "      <td id=\"T_c8ab3_row11_col15\" class=\"data row11 col15\" >0.043408</td>\n",
              "    </tr>\n",
              "    <tr>\n",
              "      <th id=\"T_c8ab3_level0_row12\" class=\"row_heading level0 row12\" >HY</th>\n",
              "      <td id=\"T_c8ab3_row12_col0\" class=\"data row12 col0\" >-0.145178</td>\n",
              "      <td id=\"T_c8ab3_row12_col1\" class=\"data row12 col1\" >0.079028</td>\n",
              "      <td id=\"T_c8ab3_row12_col2\" class=\"data row12 col2\" >-0.102139</td>\n",
              "      <td id=\"T_c8ab3_row12_col3\" class=\"data row12 col3\" >0.083361</td>\n",
              "      <td id=\"T_c8ab3_row12_col4\" class=\"data row12 col4\" >-0.111718</td>\n",
              "      <td id=\"T_c8ab3_row12_col5\" class=\"data row12 col5\" >0.126322</td>\n",
              "      <td id=\"T_c8ab3_row12_col6\" class=\"data row12 col6\" >-0.129773</td>\n",
              "      <td id=\"T_c8ab3_row12_col7\" class=\"data row12 col7\" >0.092046</td>\n",
              "      <td id=\"T_c8ab3_row12_col8\" class=\"data row12 col8\" >-0.047322</td>\n",
              "      <td id=\"T_c8ab3_row12_col9\" class=\"data row12 col9\" >0.051038</td>\n",
              "      <td id=\"T_c8ab3_row12_col10\" class=\"data row12 col10\" >0.363109</td>\n",
              "      <td id=\"T_c8ab3_row12_col11\" class=\"data row12 col11\" >0.081326</td>\n",
              "      <td id=\"T_c8ab3_row12_col12\" class=\"data row12 col12\" >1.000000</td>\n",
              "      <td id=\"T_c8ab3_row12_col13\" class=\"data row12 col13\" >0.190698</td>\n",
              "      <td id=\"T_c8ab3_row12_col14\" class=\"data row12 col14\" >0.000185</td>\n",
              "      <td id=\"T_c8ab3_row12_col15\" class=\"data row12 col15\" >0.051479</td>\n",
              "    </tr>\n",
              "    <tr>\n",
              "      <th id=\"T_c8ab3_level0_row13\" class=\"row_heading level0 row13\" >AY</th>\n",
              "      <td id=\"T_c8ab3_row13_col0\" class=\"data row13 col0\" >-0.027306</td>\n",
              "      <td id=\"T_c8ab3_row13_col1\" class=\"data row13 col1\" >-0.015045</td>\n",
              "      <td id=\"T_c8ab3_row13_col2\" class=\"data row13 col2\" >0.000088</td>\n",
              "      <td id=\"T_c8ab3_row13_col3\" class=\"data row13 col3\" >-0.001141</td>\n",
              "      <td id=\"T_c8ab3_row13_col4\" class=\"data row13 col4\" >0.087011</td>\n",
              "      <td id=\"T_c8ab3_row13_col5\" class=\"data row13 col5\" >-0.078682</td>\n",
              "      <td id=\"T_c8ab3_row13_col6\" class=\"data row13 col6\" >0.043696</td>\n",
              "      <td id=\"T_c8ab3_row13_col7\" class=\"data row13 col7\" >-0.066219</td>\n",
              "      <td id=\"T_c8ab3_row13_col8\" class=\"data row13 col8\" >0.056384</td>\n",
              "      <td id=\"T_c8ab3_row13_col9\" class=\"data row13 col9\" >-0.063096</td>\n",
              "      <td id=\"T_c8ab3_row13_col10\" class=\"data row13 col10\" >0.105287</td>\n",
              "      <td id=\"T_c8ab3_row13_col11\" class=\"data row13 col11\" >0.330946</td>\n",
              "      <td id=\"T_c8ab3_row13_col12\" class=\"data row13 col12\" >0.190698</td>\n",
              "      <td id=\"T_c8ab3_row13_col13\" class=\"data row13 col13\" >1.000000</td>\n",
              "      <td id=\"T_c8ab3_row13_col14\" class=\"data row13 col14\" >0.019215</td>\n",
              "      <td id=\"T_c8ab3_row13_col15\" class=\"data row13 col15\" >0.022566</td>\n",
              "    </tr>\n",
              "    <tr>\n",
              "      <th id=\"T_c8ab3_level0_row14\" class=\"row_heading level0 row14\" >HR</th>\n",
              "      <td id=\"T_c8ab3_row14_col0\" class=\"data row14 col0\" >-0.068783</td>\n",
              "      <td id=\"T_c8ab3_row14_col1\" class=\"data row14 col1\" >0.126717</td>\n",
              "      <td id=\"T_c8ab3_row14_col2\" class=\"data row14 col2\" >-0.013304</td>\n",
              "      <td id=\"T_c8ab3_row14_col3\" class=\"data row14 col3\" >0.093504</td>\n",
              "      <td id=\"T_c8ab3_row14_col4\" class=\"data row14 col4\" >-0.097852</td>\n",
              "      <td id=\"T_c8ab3_row14_col5\" class=\"data row14 col5\" >0.161516</td>\n",
              "      <td id=\"T_c8ab3_row14_col6\" class=\"data row14 col6\" >-0.080049</td>\n",
              "      <td id=\"T_c8ab3_row14_col7\" class=\"data row14 col7\" >0.162496</td>\n",
              "      <td id=\"T_c8ab3_row14_col8\" class=\"data row14 col8\" >-0.072280</td>\n",
              "      <td id=\"T_c8ab3_row14_col9\" class=\"data row14 col9\" >0.082106</td>\n",
              "      <td id=\"T_c8ab3_row14_col10\" class=\"data row14 col10\" >0.040883</td>\n",
              "      <td id=\"T_c8ab3_row14_col11\" class=\"data row14 col11\" >0.017737</td>\n",
              "      <td id=\"T_c8ab3_row14_col12\" class=\"data row14 col12\" >0.000185</td>\n",
              "      <td id=\"T_c8ab3_row14_col13\" class=\"data row14 col13\" >0.019215</td>\n",
              "      <td id=\"T_c8ab3_row14_col14\" class=\"data row14 col14\" >1.000000</td>\n",
              "      <td id=\"T_c8ab3_row14_col15\" class=\"data row14 col15\" >0.009875</td>\n",
              "    </tr>\n",
              "    <tr>\n",
              "      <th id=\"T_c8ab3_level0_row15\" class=\"row_heading level0 row15\" >AR</th>\n",
              "      <td id=\"T_c8ab3_row15_col0\" class=\"data row15 col0\" >0.070114</td>\n",
              "      <td id=\"T_c8ab3_row15_col1\" class=\"data row15 col1\" >-0.070104</td>\n",
              "      <td id=\"T_c8ab3_row15_col2\" class=\"data row15 col2\" >0.005463</td>\n",
              "      <td id=\"T_c8ab3_row15_col3\" class=\"data row15 col3\" >-0.021096</td>\n",
              "      <td id=\"T_c8ab3_row15_col4\" class=\"data row15 col4\" >0.071994</td>\n",
              "      <td id=\"T_c8ab3_row15_col5\" class=\"data row15 col5\" >-0.097570</td>\n",
              "      <td id=\"T_c8ab3_row15_col6\" class=\"data row15 col6\" >0.073334</td>\n",
              "      <td id=\"T_c8ab3_row15_col7\" class=\"data row15 col7\" >-0.068744</td>\n",
              "      <td id=\"T_c8ab3_row15_col8\" class=\"data row15 col8\" >0.060689</td>\n",
              "      <td id=\"T_c8ab3_row15_col9\" class=\"data row15 col9\" >-0.083243</td>\n",
              "      <td id=\"T_c8ab3_row15_col10\" class=\"data row15 col10\" >0.030306</td>\n",
              "      <td id=\"T_c8ab3_row15_col11\" class=\"data row15 col11\" >0.043408</td>\n",
              "      <td id=\"T_c8ab3_row15_col12\" class=\"data row15 col12\" >0.051479</td>\n",
              "      <td id=\"T_c8ab3_row15_col13\" class=\"data row15 col13\" >0.022566</td>\n",
              "      <td id=\"T_c8ab3_row15_col14\" class=\"data row15 col14\" >0.009875</td>\n",
              "      <td id=\"T_c8ab3_row15_col15\" class=\"data row15 col15\" >1.000000</td>\n",
              "    </tr>\n",
              "  </tbody>\n",
              "</table>\n"
            ]
          },
          "metadata": {},
          "execution_count": 16
        }
      ]
    },
    {
      "cell_type": "code",
      "source": [
        "# import seaborn as sns"
      ],
      "metadata": {
        "id": "7ms6eEqPTb0s"
      },
      "execution_count": null,
      "outputs": []
    },
    {
      "cell_type": "code",
      "source": [
        "# sns.pairplot(df)"
      ],
      "metadata": {
        "id": "mft08A8AVdXd"
      },
      "execution_count": null,
      "outputs": []
    },
    {
      "cell_type": "code",
      "source": [
        "# sns.pairplot(df.iloc[:,:12])\n",
        "            #  , hue='FTHG')"
      ],
      "metadata": {
        "id": "1jhzSSJZTGyL"
      },
      "execution_count": null,
      "outputs": []
    },
    {
      "cell_type": "code",
      "source": [
        "# home_team_stats = df['FTHG'][(df.home_team_name)].mean()\n",
        "# stats = df.FTHG.mean()\n",
        "# stats"
      ],
      "metadata": {
        "id": "fOQlkb4Iu1ww"
      },
      "execution_count": null,
      "outputs": []
    },
    {
      "cell_type": "code",
      "source": [
        "# import pickle\n",
        "# with open('epl_prediction_random_forest','wb') as f:\n",
        "#     pickle.dump(model[1], f)"
      ],
      "metadata": {
        "id": "C_iy76Wea5Ec"
      },
      "execution_count": null,
      "outputs": []
    },
    {
      "cell_type": "code",
      "execution_count": null,
      "metadata": {
        "id": "0HFMiEfnu_zr"
      },
      "outputs": [],
      "source": [
        "params = {\n",
        "    'max_depth': [2,3,5,10,20],\n",
        "    'min_samples_leaf': [5,10,20,50,100,200],\n",
        "      'n_estimators': [10,25,30,50,100,200]\n",
        "}"
      ]
    },
    {
      "cell_type": "code",
      "execution_count": null,
      "metadata": {
        "id": "ALriW9YMvHU8"
      },
      "outputs": [],
      "source": [
        "from sklearn.model_selection import GridSearchCV\n",
        "from sklearn.ensemble import RandomForestClassifier\n",
        "rf = RandomForestClassifier(random_state=10, n_jobs=-1)"
      ]
    },
    {
      "cell_type": "code",
      "execution_count": null,
      "metadata": {
        "id": "pCro_3dAvIRT"
      },
      "outputs": [],
      "source": [
        "grid_search = GridSearchCV(estimator=rf,\n",
        "                           param_grid=params,\n",
        "                           cv = 4,\n",
        "                           n_jobs=-1, verbose=1, scoring=\"accuracy\")"
      ]
    },
    {
      "cell_type": "code",
      "source": [
        "# samp = pd.read_csv('test.csv')\n",
        "# samp_test = samp.drop(['Season','DateTime','home_team_name','away_team_name','FTR','FTHG','FTAG','HTHG','HTAG','HTR'], axis = 1)\n",
        "# samp_test"
      ],
      "metadata": {
        "id": "rzsYLRqRHWIJ"
      },
      "execution_count": null,
      "outputs": []
    },
    {
      "cell_type": "code",
      "execution_count": null,
      "metadata": {
        "id": "nY7RhlpuvKcN",
        "colab": {
          "base_uri": "https://localhost:8080/"
        },
        "outputId": "9a3b4d10-fd04-49c9-e644-9e4b8935e760"
      },
      "outputs": [
        {
          "output_type": "stream",
          "name": "stdout",
          "text": [
            "Fitting 4 folds for each of 180 candidates, totalling 720 fits\n",
            "CPU times: user 1.66 s, sys: 130 ms, total: 1.79 s\n",
            "Wall time: 1min 22s\n"
          ]
        },
        {
          "output_type": "execute_result",
          "data": {
            "text/plain": [
              "GridSearchCV(cv=4, estimator=RandomForestClassifier(n_jobs=-1, random_state=10),\n",
              "             n_jobs=-1,\n",
              "             param_grid={'max_depth': [2, 3, 5, 10, 20],\n",
              "                         'min_samples_leaf': [5, 10, 20, 50, 100, 200],\n",
              "                         'n_estimators': [10, 25, 30, 50, 100, 200]},\n",
              "             scoring='accuracy', verbose=1)"
            ]
          },
          "metadata": {},
          "execution_count": 26
        }
      ],
      "source": [
        "%%time\n",
        "grid_search.fit(X_train, y_train)\n",
        "# ok = grid_search.predict(X_test)\n",
        "# ok\n"
      ]
    },
    {
      "cell_type": "code",
      "source": [
        "# ok.shape"
      ],
      "metadata": {
        "id": "iP4sqseBFe4a"
      },
      "execution_count": null,
      "outputs": []
    },
    {
      "cell_type": "code",
      "execution_count": null,
      "metadata": {
        "id": "pTAswElXvOIo"
      },
      "outputs": [],
      "source": [
        "# grid_search.best_score_"
      ]
    },
    {
      "cell_type": "code",
      "execution_count": null,
      "metadata": {
        "id": "TO5rpZvVvUw1",
        "colab": {
          "base_uri": "https://localhost:8080/"
        },
        "outputId": "0a4e39d8-9a31-43ce-d78a-0aadbc04be16"
      },
      "outputs": [
        {
          "output_type": "execute_result",
          "data": {
            "text/plain": [
              "RandomForestClassifier(max_depth=10, min_samples_leaf=10, n_estimators=25,\n",
              "                       n_jobs=-1, random_state=10)"
            ]
          },
          "metadata": {},
          "execution_count": 29
        }
      ],
      "source": [
        "rf_best = grid_search.best_estimator_\n",
        "rf_best"
      ]
    },
    {
      "cell_type": "code",
      "execution_count": null,
      "metadata": {
        "id": "LOtVTq32vXTO"
      },
      "outputs": [],
      "source": [
        "# from sklearn.tree import plot_tree\n",
        "# plt.figure(figsize=(80,40))\n",
        "# plot_tree(rf_best.estimators_[5], feature_names = X.columns,class_names=['Home', \"Away\",\"Draw\"],filled=True);"
      ]
    },
    {
      "cell_type": "code",
      "execution_count": null,
      "metadata": {
        "id": "I-buFed3vf95"
      },
      "outputs": [],
      "source": [
        "# from sklearn.tree import plot_tree\n",
        "# plt.figure(figsize=(80,40))\n",
        "# plot_tree(rf_best.estimators_[7], feature_names = X.columns,class_names=['Home',\"Away\", \"Draw\"],filled=True);"
      ]
    },
    {
      "cell_type": "code",
      "execution_count": null,
      "metadata": {
        "id": "DVl33B_UvhPI",
        "colab": {
          "base_uri": "https://localhost:8080/"
        },
        "outputId": "c63517bb-0ef3-406f-ebeb-c35b800f70f8"
      },
      "outputs": [
        {
          "output_type": "execute_result",
          "data": {
            "text/plain": [
              "array([0.07895424, 0.09430544, 0.28765311, 0.23211396, 0.07388051,\n",
              "       0.04496748, 0.05654431, 0.05150233, 0.03855502, 0.03246078,\n",
              "       0.00822051, 0.00084232])"
            ]
          },
          "metadata": {},
          "execution_count": 32
        }
      ],
      "source": [
        "rf_best.feature_importances_"
      ]
    },
    {
      "cell_type": "code",
      "execution_count": null,
      "metadata": {
        "id": "1w4bE9pnvkEa"
      },
      "outputs": [],
      "source": [
        "imp_df = pd.DataFrame({\n",
        "    \"Features\": X_train.columns,\n",
        "    \"Imp\": rf_best.feature_importances_\n",
        "})"
      ]
    },
    {
      "cell_type": "code",
      "execution_count": null,
      "metadata": {
        "id": "-jofn6NKvnG5",
        "colab": {
          "base_uri": "https://localhost:8080/",
          "height": 426
        },
        "outputId": "51dc1505-ffdb-4ece-9108-37df6f5b383f"
      },
      "outputs": [
        {
          "output_type": "execute_result",
          "data": {
            "text/plain": [
              "   Features       Imp\n",
              "2       HST  0.287653\n",
              "3       AST  0.232114\n",
              "1        AS  0.094305\n",
              "0        HS  0.078954\n",
              "4        HC  0.073881\n",
              "6        HF  0.056544\n",
              "7        AF  0.051502\n",
              "5        AC  0.044967\n",
              "8        HY  0.038555\n",
              "9        AY  0.032461\n",
              "10       HR  0.008221\n",
              "11       AR  0.000842"
            ],
            "text/html": [
              "\n",
              "  <div id=\"df-060e7d50-e7ff-4e79-9771-631de5ead765\">\n",
              "    <div class=\"colab-df-container\">\n",
              "      <div>\n",
              "<style scoped>\n",
              "    .dataframe tbody tr th:only-of-type {\n",
              "        vertical-align: middle;\n",
              "    }\n",
              "\n",
              "    .dataframe tbody tr th {\n",
              "        vertical-align: top;\n",
              "    }\n",
              "\n",
              "    .dataframe thead th {\n",
              "        text-align: right;\n",
              "    }\n",
              "</style>\n",
              "<table border=\"1\" class=\"dataframe\">\n",
              "  <thead>\n",
              "    <tr style=\"text-align: right;\">\n",
              "      <th></th>\n",
              "      <th>Features</th>\n",
              "      <th>Imp</th>\n",
              "    </tr>\n",
              "  </thead>\n",
              "  <tbody>\n",
              "    <tr>\n",
              "      <th>2</th>\n",
              "      <td>HST</td>\n",
              "      <td>0.287653</td>\n",
              "    </tr>\n",
              "    <tr>\n",
              "      <th>3</th>\n",
              "      <td>AST</td>\n",
              "      <td>0.232114</td>\n",
              "    </tr>\n",
              "    <tr>\n",
              "      <th>1</th>\n",
              "      <td>AS</td>\n",
              "      <td>0.094305</td>\n",
              "    </tr>\n",
              "    <tr>\n",
              "      <th>0</th>\n",
              "      <td>HS</td>\n",
              "      <td>0.078954</td>\n",
              "    </tr>\n",
              "    <tr>\n",
              "      <th>4</th>\n",
              "      <td>HC</td>\n",
              "      <td>0.073881</td>\n",
              "    </tr>\n",
              "    <tr>\n",
              "      <th>6</th>\n",
              "      <td>HF</td>\n",
              "      <td>0.056544</td>\n",
              "    </tr>\n",
              "    <tr>\n",
              "      <th>7</th>\n",
              "      <td>AF</td>\n",
              "      <td>0.051502</td>\n",
              "    </tr>\n",
              "    <tr>\n",
              "      <th>5</th>\n",
              "      <td>AC</td>\n",
              "      <td>0.044967</td>\n",
              "    </tr>\n",
              "    <tr>\n",
              "      <th>8</th>\n",
              "      <td>HY</td>\n",
              "      <td>0.038555</td>\n",
              "    </tr>\n",
              "    <tr>\n",
              "      <th>9</th>\n",
              "      <td>AY</td>\n",
              "      <td>0.032461</td>\n",
              "    </tr>\n",
              "    <tr>\n",
              "      <th>10</th>\n",
              "      <td>HR</td>\n",
              "      <td>0.008221</td>\n",
              "    </tr>\n",
              "    <tr>\n",
              "      <th>11</th>\n",
              "      <td>AR</td>\n",
              "      <td>0.000842</td>\n",
              "    </tr>\n",
              "  </tbody>\n",
              "</table>\n",
              "</div>\n",
              "      <button class=\"colab-df-convert\" onclick=\"convertToInteractive('df-060e7d50-e7ff-4e79-9771-631de5ead765')\"\n",
              "              title=\"Convert this dataframe to an interactive table.\"\n",
              "              style=\"display:none;\">\n",
              "        \n",
              "  <svg xmlns=\"http://www.w3.org/2000/svg\" height=\"24px\"viewBox=\"0 0 24 24\"\n",
              "       width=\"24px\">\n",
              "    <path d=\"M0 0h24v24H0V0z\" fill=\"none\"/>\n",
              "    <path d=\"M18.56 5.44l.94 2.06.94-2.06 2.06-.94-2.06-.94-.94-2.06-.94 2.06-2.06.94zm-11 1L8.5 8.5l.94-2.06 2.06-.94-2.06-.94L8.5 2.5l-.94 2.06-2.06.94zm10 10l.94 2.06.94-2.06 2.06-.94-2.06-.94-.94-2.06-.94 2.06-2.06.94z\"/><path d=\"M17.41 7.96l-1.37-1.37c-.4-.4-.92-.59-1.43-.59-.52 0-1.04.2-1.43.59L10.3 9.45l-7.72 7.72c-.78.78-.78 2.05 0 2.83L4 21.41c.39.39.9.59 1.41.59.51 0 1.02-.2 1.41-.59l7.78-7.78 2.81-2.81c.8-.78.8-2.07 0-2.86zM5.41 20L4 18.59l7.72-7.72 1.47 1.35L5.41 20z\"/>\n",
              "  </svg>\n",
              "      </button>\n",
              "      \n",
              "  <style>\n",
              "    .colab-df-container {\n",
              "      display:flex;\n",
              "      flex-wrap:wrap;\n",
              "      gap: 12px;\n",
              "    }\n",
              "\n",
              "    .colab-df-convert {\n",
              "      background-color: #E8F0FE;\n",
              "      border: none;\n",
              "      border-radius: 50%;\n",
              "      cursor: pointer;\n",
              "      display: none;\n",
              "      fill: #1967D2;\n",
              "      height: 32px;\n",
              "      padding: 0 0 0 0;\n",
              "      width: 32px;\n",
              "    }\n",
              "\n",
              "    .colab-df-convert:hover {\n",
              "      background-color: #E2EBFA;\n",
              "      box-shadow: 0px 1px 2px rgba(60, 64, 67, 0.3), 0px 1px 3px 1px rgba(60, 64, 67, 0.15);\n",
              "      fill: #174EA6;\n",
              "    }\n",
              "\n",
              "    [theme=dark] .colab-df-convert {\n",
              "      background-color: #3B4455;\n",
              "      fill: #D2E3FC;\n",
              "    }\n",
              "\n",
              "    [theme=dark] .colab-df-convert:hover {\n",
              "      background-color: #434B5C;\n",
              "      box-shadow: 0px 1px 3px 1px rgba(0, 0, 0, 0.15);\n",
              "      filter: drop-shadow(0px 1px 2px rgba(0, 0, 0, 0.3));\n",
              "      fill: #FFFFFF;\n",
              "    }\n",
              "  </style>\n",
              "\n",
              "      <script>\n",
              "        const buttonEl =\n",
              "          document.querySelector('#df-060e7d50-e7ff-4e79-9771-631de5ead765 button.colab-df-convert');\n",
              "        buttonEl.style.display =\n",
              "          google.colab.kernel.accessAllowed ? 'block' : 'none';\n",
              "\n",
              "        async function convertToInteractive(key) {\n",
              "          const element = document.querySelector('#df-060e7d50-e7ff-4e79-9771-631de5ead765');\n",
              "          const dataTable =\n",
              "            await google.colab.kernel.invokeFunction('convertToInteractive',\n",
              "                                                     [key], {});\n",
              "          if (!dataTable) return;\n",
              "\n",
              "          const docLinkHtml = 'Like what you see? Visit the ' +\n",
              "            '<a target=\"_blank\" href=https://colab.research.google.com/notebooks/data_table.ipynb>data table notebook</a>'\n",
              "            + ' to learn more about interactive tables.';\n",
              "          element.innerHTML = '';\n",
              "          dataTable['output_type'] = 'display_data';\n",
              "          await google.colab.output.renderOutput(dataTable, element);\n",
              "          const docLink = document.createElement('div');\n",
              "          docLink.innerHTML = docLinkHtml;\n",
              "          element.appendChild(docLink);\n",
              "        }\n",
              "      </script>\n",
              "    </div>\n",
              "  </div>\n",
              "  "
            ]
          },
          "metadata": {},
          "execution_count": 34
        }
      ],
      "source": [
        "imp_df.sort_values(by=\"Imp\", ascending=False)"
      ]
    },
    {
      "cell_type": "code",
      "source": [
        "# combined = pd.DataFrame(dict(actual=y_test, predicted=ok))"
      ],
      "metadata": {
        "id": "cPC0AExWGs6b"
      },
      "execution_count": null,
      "outputs": []
    },
    {
      "cell_type": "code",
      "source": [
        "# pd.crosstab(index=combined[\"actual\"], columns=combined[\"predicted\"])"
      ],
      "metadata": {
        "id": "4DaQjY7eGh8f"
      },
      "execution_count": null,
      "outputs": []
    },
    {
      "cell_type": "code",
      "source": [
        "from sklearn.metrics import f1_score\n"
      ],
      "metadata": {
        "id": "AN3Rp58qIlQQ"
      },
      "execution_count": null,
      "outputs": []
    },
    {
      "cell_type": "code",
      "source": [
        "f1_score(ok,y_test, average='weighted')"
      ],
      "metadata": {
        "id": "sKDWjl5_Impd",
        "colab": {
          "base_uri": "https://localhost:8080/"
        },
        "outputId": "b21601b0-d895-456b-8aea-3e44d448d649"
      },
      "execution_count": null,
      "outputs": [
        {
          "output_type": "execute_result",
          "data": {
            "text/plain": [
              "0.6807022267435089"
            ]
          },
          "metadata": {},
          "execution_count": 38
        }
      ]
    },
    {
      "cell_type": "code",
      "source": [
        "# lr = LogisticRegression(C=0.01, solver='liblinear')\n",
        "# lr.fit(X_train, y_train)\n",
        "# pre_probs = lr.predict_proba(X_test)\n",
        "# # pre_probs\n",
        "# pre_odds = 1 / pre_probs\n",
        "# pre_odds.shape[0]"
      ],
      "metadata": {
        "id": "d71byPipKQz3"
      },
      "execution_count": null,
      "outputs": []
    },
    {
      "cell_type": "code",
      "source": [
        "# pre_odds_tab = (X_test.assign(homeWinOdds=[i[2] for i in pre_odds],\n",
        "#                            drawOdds=[i[1] for i in pre_odds],\n",
        "#                            awayWinOdds=[i[0] for i in pre_odds]))\n",
        "# pre_odds_tab\n"
      ],
      "metadata": {
        "id": "H2llVQP5LmPn"
      },
      "execution_count": null,
      "outputs": []
    },
    {
      "cell_type": "code",
      "source": [
        "for col in df.select_dtypes('number').columns:\n",
        "    sns.distplot(df[col])\n",
        "    plt.title(f\"Distribution for {col}\")\n",
        "    plt.show()"
      ],
      "metadata": {
        "id": "LlN3-7jqzzWp",
        "outputId": "d7660770-10a2-46dd-d976-b29e523e9bc3",
        "colab": {
          "base_uri": "https://localhost:8080/",
          "height": 1000
        }
      },
      "execution_count": null,
      "outputs": [
        {
          "output_type": "stream",
          "name": "stderr",
          "text": [
            "/usr/local/lib/python3.8/dist-packages/seaborn/distributions.py:2619: FutureWarning: `distplot` is a deprecated function and will be removed in a future version. Please adapt your code to use either `displot` (a figure-level function with similar flexibility) or `histplot` (an axes-level function for histograms).\n",
            "  warnings.warn(msg, FutureWarning)\n"
          ]
        },
        {
          "output_type": "display_data",
          "data": {
            "text/plain": [
              "<Figure size 432x288 with 1 Axes>"
            ],
            "image/png": "[encoded data removed]"
          },
          "metadata": {
            "needs_background": "light"
          }
        },
        {
          "output_type": "stream",
          "name": "stderr",
          "text": [
            "/usr/local/lib/python3.8/dist-packages/seaborn/distributions.py:2619: FutureWarning: `distplot` is a deprecated function and will be removed in a future version. Please adapt your code to use either `displot` (a figure-level function with similar flexibility) or `histplot` (an axes-level function for histograms).\n",
            "  warnings.warn(msg, FutureWarning)\n"
          ]
        },
        {
          "output_type": "display_data",
          "data": {
            "text/plain": [
              "<Figure size 432x288 with 1 Axes>"
            ],
            "image/png": "[encoded data removed]"
          },
          "metadata": {
            "needs_background": "light"
          }
        },
        {
          "output_type": "stream",
          "name": "stderr",
          "text": [
            "/usr/local/lib/python3.8/dist-packages/seaborn/distributions.py:2619: FutureWarning: `distplot` is a deprecated function and will be removed in a future version. Please adapt your code to use either `displot` (a figure-level function with similar flexibility) or `histplot` (an axes-level function for histograms).\n",
            "  warnings.warn(msg, FutureWarning)\n"
          ]
        },
        {
          "output_type": "display_data",
          "data": {
            "text/plain": [
              "<Figure size 432x288 with 1 Axes>"
            ],
            "image/png": "[encoded data removed]"
          },
          "metadata": {
            "needs_background": "light"
          }
        },
        {
          "output_type": "stream",
          "name": "stderr",
          "text": [
            "/usr/local/lib/python3.8/dist-packages/seaborn/distributions.py:2619: FutureWarning: `distplot` is a deprecated function and will be removed in a future version. Please adapt your code to use either `displot` (a figure-level function with similar flexibility) or `histplot` (an axes-level function for histograms).\n",
            "  warnings.warn(msg, FutureWarning)\n"
          ]
        },
        {
          "output_type": "display_data",
          "data": {
            "text/plain": [
              "<Figure size 432x288 with 1 Axes>"
            ],
            "image/png": "[encoded data removed]"
          },
          "metadata": {
            "needs_background": "light"
          }
        },
        {
          "output_type": "stream",
          "name": "stderr",
          "text": [
            "/usr/local/lib/python3.8/dist-packages/seaborn/distributions.py:2619: FutureWarning: `distplot` is a deprecated function and will be removed in a future version. Please adapt your code to use either `displot` (a figure-level function with similar flexibility) or `histplot` (an axes-level function for histograms).\n",
            "  warnings.warn(msg, FutureWarning)\n"
          ]
        },
        {
          "output_type": "display_data",
          "data": {
            "text/plain": [
              "<Figure size 432x288 with 1 Axes>"
            ],
            "image/png": "[encoded data removed]"
          },
          "metadata": {
            "needs_background": "light"
          }
        },
        {
          "output_type": "stream",
          "name": "stderr",
          "text": [
            "/usr/local/lib/python3.8/dist-packages/seaborn/distributions.py:2619: FutureWarning: `distplot` is a deprecated function and will be removed in a future version. Please adapt your code to use either `displot` (a figure-level function with similar flexibility) or `histplot` (an axes-level function for histograms).\n",
            "  warnings.warn(msg, FutureWarning)\n"
          ]
        },
        {
          "output_type": "display_data",
          "data": {
            "text/plain": [
              "<Figure size 432x288 with 1 Axes>"
            ],
            "image/png": "[encoded data removed]"
          },
          "metadata": {
            "needs_background": "light"
          }
        },
        {
          "output_type": "stream",
          "name": "stderr",
          "text": [
            "/usr/local/lib/python3.8/dist-packages/seaborn/distributions.py:2619: FutureWarning: `distplot` is a deprecated function and will be removed in a future version. Please adapt your code to use either `displot` (a figure-level function with similar flexibility) or `histplot` (an axes-level function for histograms).\n",
            "  warnings.warn(msg, FutureWarning)\n"
          ]
        },
        {
          "output_type": "display_data",
          "data": {
            "text/plain": [
              "<Figure size 432x288 with 1 Axes>"
            ],
            "image/png": "[encoded data removed]"
          },
          "metadata": {
            "needs_background": "light"
          }
        },
        {
          "output_type": "stream",
          "name": "stderr",
          "text": [
            "/usr/local/lib/python3.8/dist-packages/seaborn/distributions.py:2619: FutureWarning: `distplot` is a deprecated function and will be removed in a future version. Please adapt your code to use either `displot` (a figure-level function with similar flexibility) or `histplot` (an axes-level function for histograms).\n",
            "  warnings.warn(msg, FutureWarning)\n"
          ]
        },
        {
          "output_type": "display_data",
          "data": {
            "text/plain": [
              "<Figure size 432x288 with 1 Axes>"
            ],
            "image/png": "[encoded data removed]"
          },
          "metadata": {
            "needs_background": "light"
          }
        },
        {
          "output_type": "stream",
          "name": "stderr",
          "text": [
            "/usr/local/lib/python3.8/dist-packages/seaborn/distributions.py:2619: FutureWarning: `distplot` is a deprecated function and will be removed in a future version. Please adapt your code to use either `displot` (a figure-level function with similar flexibility) or `histplot` (an axes-level function for histograms).\n",
            "  warnings.warn(msg, FutureWarning)\n"
          ]
        },
        {
          "output_type": "display_data",
          "data": {
            "text/plain": [
              "<Figure size 432x288 with 1 Axes>"
            ],
            "image/png": "[encoded data removed]"
          },
          "metadata": {
            "needs_background": "light"
          }
        },
        {
          "output_type": "stream",
          "name": "stderr",
          "text": [
            "/usr/local/lib/python3.8/dist-packages/seaborn/distributions.py:2619: FutureWarning: `distplot` is a deprecated function and will be removed in a future version. Please adapt your code to use either `displot` (a figure-level function with similar flexibility) or `histplot` (an axes-level function for histograms).\n",
            "  warnings.warn(msg, FutureWarning)\n"
          ]
        },
        {
          "output_type": "display_data",
          "data": {
            "text/plain": [
              "<Figure size 432x288 with 1 Axes>"
            ],
            "image/png": "[encoded data removed]"
          },
          "metadata": {
            "needs_background": "light"
          }
        },
        {
          "output_type": "stream",
          "name": "stderr",
          "text": [
            "/usr/local/lib/python3.8/dist-packages/seaborn/distributions.py:2619: FutureWarning: `distplot` is a deprecated function and will be removed in a future version. Please adapt your code to use either `displot` (a figure-level function with similar flexibility) or `histplot` (an axes-level function for histograms).\n",
            "  warnings.warn(msg, FutureWarning)\n"
          ]
        },
        {
          "output_type": "display_data",
          "data": {
            "text/plain": [
              "<Figure size 432x288 with 1 Axes>"
            ],
            "image/png": "[encoded data removed]"
          },
          "metadata": {
            "needs_background": "light"
          }
        },
        {
          "output_type": "stream",
          "name": "stderr",
          "text": [
            "/usr/local/lib/python3.8/dist-packages/seaborn/distributions.py:2619: FutureWarning: `distplot` is a deprecated function and will be removed in a future version. Please adapt your code to use either `displot` (a figure-level function with similar flexibility) or `histplot` (an axes-level function for histograms).\n",
            "  warnings.warn(msg, FutureWarning)\n"
          ]
        },
        {
          "output_type": "display_data",
          "data": {
            "text/plain": [
              "<Figure size 432x288 with 1 Axes>"
            ],
            "image/png": "[encoded data removed]"
          },
          "metadata": {
            "needs_background": "light"
          }
        },
        {
          "output_type": "stream",
          "name": "stderr",
          "text": [
            "/usr/local/lib/python3.8/dist-packages/seaborn/distributions.py:2619: FutureWarning: `distplot` is a deprecated function and will be removed in a future version. Please adapt your code to use either `displot` (a figure-level function with similar flexibility) or `histplot` (an axes-level function for histograms).\n",
            "  warnings.warn(msg, FutureWarning)\n"
          ]
        },
        {
          "output_type": "display_data",
          "data": {
            "text/plain": [
              "<Figure size 432x288 with 1 Axes>"
            ],
            "image/png": "[encoded data removed]"
          },
          "metadata": {
            "needs_background": "light"
          }
        },
        {
          "output_type": "stream",
          "name": "stderr",
          "text": [
            "/usr/local/lib/python3.8/dist-packages/seaborn/distributions.py:2619: FutureWarning: `distplot` is a deprecated function and will be removed in a future version. Please adapt your code to use either `displot` (a figure-level function with similar flexibility) or `histplot` (an axes-level function for histograms).\n",
            "  warnings.warn(msg, FutureWarning)\n"
          ]
        },
        {
          "output_type": "display_data",
          "data": {
            "text/plain": [
              "<Figure size 432x288 with 1 Axes>"
            ],
            "image/png": "[encoded data removed]"
          },
          "metadata": {
            "needs_background": "light"
          }
        },
        {
          "output_type": "stream",
          "name": "stderr",
          "text": [
            "/usr/local/lib/python3.8/dist-packages/seaborn/distributions.py:2619: FutureWarning: `distplot` is a deprecated function and will be removed in a future version. Please adapt your code to use either `displot` (a figure-level function with similar flexibility) or `histplot` (an axes-level function for histograms).\n",
            "  warnings.warn(msg, FutureWarning)\n"
          ]
        },
        {
          "output_type": "display_data",
          "data": {
            "text/plain": [
              "<Figure size 432x288 with 1 Axes>"
            ],
            "image/png": "[encoded data removed]"
          },
          "metadata": {
            "needs_background": "light"
          }
        },
        {
          "output_type": "stream",
          "name": "stderr",
          "text": [
            "/usr/local/lib/python3.8/dist-packages/seaborn/distributions.py:2619: FutureWarning: `distplot` is a deprecated function and will be removed in a future version. Please adapt your code to use either `displot` (a figure-level function with similar flexibility) or `histplot` (an axes-level function for histograms).\n",
            "  warnings.warn(msg, FutureWarning)\n"
          ]
        },
        {
          "output_type": "display_data",
          "data": {
            "text/plain": [
              "<Figure size 432x288 with 1 Axes>"
            ],
            "image/png": "[encoded data removed]"
          },
          "metadata": {
            "needs_background": "light"
          }
        }
      ]
    }
  ],
  "metadata": {
    "colab": {
      "provenance": []
    },
    "kernelspec": {
      "display_name": "Python 3",
      "name": "python3"
    },
    "language_info": {
      "name": "python"
    }
  },
  "nbformat": 4,
  "nbformat_minor": 0
}